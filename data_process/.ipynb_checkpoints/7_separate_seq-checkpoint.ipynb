{
 "cells": [
  {
   "cell_type": "markdown",
   "id": "43806680-ba5b-4d94-9810-18ee947526ca",
   "metadata": {},
   "source": [
    "## find more info in dunnion server /home/dimeng/project/data/pdb_entity30/separate_seq.ipynb"
   ]
  },
  {
   "cell_type": "code",
   "execution_count": null,
   "id": "959ac9e5-cc9a-4c80-96ee-b450170b5c4f",
   "metadata": {},
   "outputs": [],
   "source": []
  },
  {
   "cell_type": "code",
   "execution_count": null,
   "id": "a8f71227-13dd-43fb-954b-3403db2a9e59",
   "metadata": {},
   "outputs": [],
   "source": []
  },
  {
   "cell_type": "code",
   "execution_count": null,
   "id": "92702593-ff28-4d63-9165-48f5ac2a2309",
   "metadata": {},
   "outputs": [],
   "source": []
  },
  {
   "cell_type": "code",
   "execution_count": null,
   "id": "82efddac-da76-4f02-b9d3-9d2b147b8e93",
   "metadata": {},
   "outputs": [],
   "source": []
  },
  {
   "cell_type": "code",
   "execution_count": null,
   "id": "ee5e3688-f413-4455-8d71-645e90929b9f",
   "metadata": {},
   "outputs": [],
   "source": []
  }
 ],
 "metadata": {
  "kernelspec": {
   "display_name": "Python 3 (ipykernel)",
   "language": "python",
   "name": "python3"
  },
  "language_info": {
   "codemirror_mode": {
    "name": "ipython",
    "version": 3
   },
   "file_extension": ".py",
   "mimetype": "text/x-python",
   "name": "python",
   "nbconvert_exporter": "python",
   "pygments_lexer": "ipython3",
   "version": "3.11.4"
  }
 },
 "nbformat": 4,
 "nbformat_minor": 5
}
