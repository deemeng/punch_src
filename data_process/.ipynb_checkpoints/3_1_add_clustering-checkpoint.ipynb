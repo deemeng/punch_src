{
 "cells": [
  {
   "cell_type": "code",
   "execution_count": 1,
   "id": "9fa7a695-8d05-4bce-82c3-67e4c94ab8f9",
   "metadata": {},
   "outputs": [],
   "source": [
    "import os\n",
    "import numpy as np\n",
    "import pandas as pd\n",
    "import json\n",
    "import random\n",
    "\n",
    "from utils.file import load_tab, save_np, load_np, read_json2dict, dump_list2json, read_json2list\n",
    "import params.PDBparser as paramsPDB"
   ]
  },
  {
   "cell_type": "markdown",
   "id": "40752523-32dd-40dd-b5d0-dd72d2e76899",
   "metadata": {},
   "source": [
    "# 1. Add cluster information (skippable)"
   ]
  },
  {
   "cell_type": "markdown",
   "id": "12e3a0e1-6ab9-4ab7-8034-6f67b55edc31",
   "metadata": {},
   "source": [
    "**IDR dataset**"
   ]
  },
  {
   "cell_type": "code",
   "execution_count": 4,
   "id": "fe80f73c-6b07-4fb6-aedb-4cabfbfb84bf",
   "metadata": {},
   "outputs": [
    {
     "data": {
      "text/html": [
       "<div>\n",
       "<style scoped>\n",
       "    .dataframe tbody tr th:only-of-type {\n",
       "        vertical-align: middle;\n",
       "    }\n",
       "\n",
       "    .dataframe tbody tr th {\n",
       "        vertical-align: top;\n",
       "    }\n",
       "\n",
       "    .dataframe thead th {\n",
       "        text-align: right;\n",
       "    }\n",
       "</style>\n",
       "<table border=\"1\" class=\"dataframe\">\n",
       "  <thead>\n",
       "    <tr style=\"text-align: right;\">\n",
       "      <th></th>\n",
       "      <th>rcsb_id</th>\n",
       "      <th>entity_id</th>\n",
       "      <th>uniprot_accession</th>\n",
       "      <th>sequence_length</th>\n",
       "      <th>chain_id</th>\n",
       "      <th>auth_chain_id</th>\n",
       "      <th>id</th>\n",
       "    </tr>\n",
       "  </thead>\n",
       "  <tbody>\n",
       "    <tr>\n",
       "      <th>0</th>\n",
       "      <td>120L</td>\n",
       "      <td>1</td>\n",
       "      <td>P00720</td>\n",
       "      <td>164</td>\n",
       "      <td>A</td>\n",
       "      <td>A</td>\n",
       "      <td>120L_1</td>\n",
       "    </tr>\n",
       "    <tr>\n",
       "      <th>1</th>\n",
       "      <td>13GS</td>\n",
       "      <td>1</td>\n",
       "      <td>P09211</td>\n",
       "      <td>210</td>\n",
       "      <td>A</td>\n",
       "      <td>A</td>\n",
       "      <td>13GS_1</td>\n",
       "    </tr>\n",
       "  </tbody>\n",
       "</table>\n",
       "</div>"
      ],
      "text/plain": [
       "  rcsb_id  entity_id uniprot_accession  sequence_length chain_id  \\\n",
       "0    120L          1            P00720              164        A   \n",
       "1    13GS          1            P09211              210        A   \n",
       "\n",
       "  auth_chain_id      id  \n",
       "0             A  120L_1  \n",
       "1             A  13GS_1  "
      ]
     },
     "execution_count": 4,
     "metadata": {},
     "output_type": "execute_result"
    }
   ],
   "source": [
    "df_pdbEntityInfo = pd.read_csv(paramsPDB.path_pdb_featureEntity100)\n",
    "df_pdbEntityInfo[:2]"
   ]
  },
  {
   "cell_type": "code",
   "execution_count": 35,
   "id": "cb403828-9331-440d-985a-9cd53c2fbeb2",
   "metadata": {},
   "outputs": [
    {
     "data": {
      "text/html": [
       "<div>\n",
       "<style scoped>\n",
       "    .dataframe tbody tr th:only-of-type {\n",
       "        vertical-align: middle;\n",
       "    }\n",
       "\n",
       "    .dataframe tbody tr th {\n",
       "        vertical-align: top;\n",
       "    }\n",
       "\n",
       "    .dataframe thead th {\n",
       "        text-align: right;\n",
       "    }\n",
       "</style>\n",
       "<table border=\"1\" class=\"dataframe\">\n",
       "  <thead>\n",
       "    <tr style=\"text-align: right;\">\n",
       "      <th></th>\n",
       "      <th>id</th>\n",
       "      <th>sequence</th>\n",
       "      <th>reference</th>\n",
       "      <th>fold</th>\n",
       "    </tr>\n",
       "  </thead>\n",
       "  <tbody>\n",
       "    <tr>\n",
       "      <th>0</th>\n",
       "      <td>120L_1</td>\n",
       "      <td>MNIFEMLRIDEGLRLKIYKDTEGYYTIGIGHLLTKSPSLNSAKSEL...</td>\n",
       "      <td>0000000000000000000000000000000000000000000000...</td>\n",
       "      <td>5</td>\n",
       "    </tr>\n",
       "    <tr>\n",
       "      <th>1</th>\n",
       "      <td>13PK_1</td>\n",
       "      <td>EKKSINECDLKGKKVLIRVDFNVPVKNGKITNDYRIRSALPTLKKV...</td>\n",
       "      <td>0000000000000000000000000000000000000000000000...</td>\n",
       "      <td>4</td>\n",
       "    </tr>\n",
       "  </tbody>\n",
       "</table>\n",
       "</div>"
      ],
      "text/plain": [
       "       id                                           sequence  \\\n",
       "0  120L_1  MNIFEMLRIDEGLRLKIYKDTEGYYTIGIGHLLTKSPSLNSAKSEL...   \n",
       "1  13PK_1  EKKSINECDLKGKKVLIRVDFNVPVKNGKITNDYRIRSALPTLKKV...   \n",
       "\n",
       "                                           reference  fold  \n",
       "0  0000000000000000000000000000000000000000000000...     5  \n",
       "1  0000000000000000000000000000000000000000000000...     4  "
      ]
     },
     "execution_count": 35,
     "metadata": {},
     "output_type": "execute_result"
    }
   ],
   "source": [
    "list_entityDataset = read_json2list(paramsPDB.path_IDRdataset_100)\n",
    "df_entityDataset = pd.DataFrame(list_entityDataset)\n",
    "df_entityDataset = df_entityDataset.drop(['clstr_id'], axis=1)\n",
    "df_entityDataset[:2]"
   ]
  },
  {
   "cell_type": "code",
   "execution_count": 36,
   "id": "348a7e84-e5ca-4857-9b60-0c25cd2d6360",
   "metadata": {},
   "outputs": [
    {
     "data": {
      "text/plain": [
       "(470006, 231624, 168082, 78968)"
      ]
     },
     "execution_count": 36,
     "metadata": {},
     "output_type": "execute_result"
    }
   ],
   "source": [
    "df_pdbEntityInfo.shape[0], len(df_pdbEntityInfo['id'].unique()), len(df_pdbEntityInfo['rcsb_id'].unique()),  df_entityDataset.shape[0]"
   ]
  },
  {
   "cell_type": "markdown",
   "id": "a06845dd-52e7-49fc-a30a-3157863ffadb",
   "metadata": {},
   "source": [
    "**Clustering**"
   ]
  },
  {
   "cell_type": "code",
   "execution_count": 37,
   "id": "c6f1c810-f81d-4e07-972a-0e92c3e90fdf",
   "metadata": {},
   "outputs": [
    {
     "data": {
      "text/html": [
       "<div>\n",
       "<style scoped>\n",
       "    .dataframe tbody tr th:only-of-type {\n",
       "        vertical-align: middle;\n",
       "    }\n",
       "\n",
       "    .dataframe tbody tr th {\n",
       "        vertical-align: top;\n",
       "    }\n",
       "\n",
       "    .dataframe thead th {\n",
       "        text-align: right;\n",
       "    }\n",
       "</style>\n",
       "<table border=\"1\" class=\"dataframe\">\n",
       "  <thead>\n",
       "    <tr style=\"text-align: right;\">\n",
       "      <th></th>\n",
       "      <th>clstr_id</th>\n",
       "      <th>id</th>\n",
       "    </tr>\n",
       "  </thead>\n",
       "  <tbody>\n",
       "    <tr>\n",
       "      <th>0</th>\n",
       "      <td>120L_1</td>\n",
       "      <td>120L_1</td>\n",
       "    </tr>\n",
       "    <tr>\n",
       "      <th>1</th>\n",
       "      <td>13PK_1</td>\n",
       "      <td>13PK_1</td>\n",
       "    </tr>\n",
       "  </tbody>\n",
       "</table>\n",
       "</div>"
      ],
      "text/plain": [
       "  clstr_id      id\n",
       "0   120L_1  120L_1\n",
       "1   13PK_1  13PK_1"
      ]
     },
     "execution_count": 37,
     "metadata": {},
     "output_type": "execute_result"
    }
   ],
   "source": [
    "# MMseqs2 clustering, set min-seq-i=1\n",
    "df_clstr_100 = pd.read_csv(paramsPDB.path_cls100_tab, header=None, names=['clstr_id', 'id'], sep='\\t')\n",
    "df_clstr_100[:2]"
   ]
  },
  {
   "cell_type": "code",
   "execution_count": 38,
   "id": "5012d967-7eb5-4995-a1e6-2fdd3a3d3eb7",
   "metadata": {},
   "outputs": [
    {
     "data": {
      "text/html": [
       "<div>\n",
       "<style scoped>\n",
       "    .dataframe tbody tr th:only-of-type {\n",
       "        vertical-align: middle;\n",
       "    }\n",
       "\n",
       "    .dataframe tbody tr th {\n",
       "        vertical-align: top;\n",
       "    }\n",
       "\n",
       "    .dataframe thead th {\n",
       "        text-align: right;\n",
       "    }\n",
       "</style>\n",
       "<table border=\"1\" class=\"dataframe\">\n",
       "  <thead>\n",
       "    <tr style=\"text-align: right;\">\n",
       "      <th></th>\n",
       "      <th>clstr_id</th>\n",
       "      <th>id</th>\n",
       "    </tr>\n",
       "  </thead>\n",
       "  <tbody>\n",
       "    <tr>\n",
       "      <th>0</th>\n",
       "      <td>1O6P_2</td>\n",
       "      <td>1O6P_2</td>\n",
       "    </tr>\n",
       "    <tr>\n",
       "      <th>1</th>\n",
       "      <td>1O82_1</td>\n",
       "      <td>1O82_1</td>\n",
       "    </tr>\n",
       "  </tbody>\n",
       "</table>\n",
       "</div>"
      ],
      "text/plain": [
       "  clstr_id      id\n",
       "0   1O6P_2  1O6P_2\n",
       "1   1O82_1  1O82_1"
      ]
     },
     "execution_count": 38,
     "metadata": {},
     "output_type": "execute_result"
    }
   ],
   "source": [
    "df_clstr = pd.read_csv(paramsPDB.path_cls30_tab, header=None, names=['clstr_id', 'id'], sep='\\t')\n",
    "df_clstr[:2]"
   ]
  },
  {
   "cell_type": "code",
   "execution_count": 39,
   "id": "dc60e088-a4fd-4dd1-9b24-9473385d3068",
   "metadata": {},
   "outputs": [
    {
     "data": {
      "text/plain": [
       "(231624, 23581, 78968)"
      ]
     },
     "execution_count": 39,
     "metadata": {},
     "output_type": "execute_result"
    }
   ],
   "source": [
    "df_clstr.shape[0], len(df_clstr.iloc[:, 0].unique()),  len(df_clstr_100.iloc[:, 0].unique())"
   ]
  },
  {
   "cell_type": "code",
   "execution_count": 40,
   "id": "9a1b7443-a42c-4392-ae50-6e1b5f854d7e",
   "metadata": {},
   "outputs": [
    {
     "data": {
      "text/plain": [
       "78968"
      ]
     },
     "execution_count": 40,
     "metadata": {},
     "output_type": "execute_result"
    }
   ],
   "source": [
    "df_entityDataset.shape[0]"
   ]
  },
  {
   "cell_type": "markdown",
   "id": "430da97b-e99b-4b97-8207-43d02625660f",
   "metadata": {},
   "source": [
    "**Merge & Save**"
   ]
  },
  {
   "cell_type": "code",
   "execution_count": 41,
   "id": "f14818d9-a266-48cc-99dd-0ce693bb9e4a",
   "metadata": {},
   "outputs": [],
   "source": [
    "# take only MMseqs100 sequences\n",
    "df_entityDataset = df_entityDataset.loc[df_entityDataset['id'].isin(list(df_clstr_100['clstr_id']))]"
   ]
  },
  {
   "cell_type": "code",
   "execution_count": 42,
   "id": "4930c331-ffb8-4c00-85de-a9fdfc812b8a",
   "metadata": {},
   "outputs": [
    {
     "data": {
      "text/plain": [
       "78968"
      ]
     },
     "execution_count": 42,
     "metadata": {},
     "output_type": "execute_result"
    }
   ],
   "source": [
    "df_entityDataset.shape[0]"
   ]
  },
  {
   "cell_type": "code",
   "execution_count": 43,
   "id": "79ca1111-b35a-48ee-a008-027c0d98d36c",
   "metadata": {},
   "outputs": [
    {
     "data": {
      "text/html": [
       "<div>\n",
       "<style scoped>\n",
       "    .dataframe tbody tr th:only-of-type {\n",
       "        vertical-align: middle;\n",
       "    }\n",
       "\n",
       "    .dataframe tbody tr th {\n",
       "        vertical-align: top;\n",
       "    }\n",
       "\n",
       "    .dataframe thead th {\n",
       "        text-align: right;\n",
       "    }\n",
       "</style>\n",
       "<table border=\"1\" class=\"dataframe\">\n",
       "  <thead>\n",
       "    <tr style=\"text-align: right;\">\n",
       "      <th></th>\n",
       "      <th>id</th>\n",
       "      <th>sequence</th>\n",
       "      <th>reference</th>\n",
       "      <th>fold</th>\n",
       "    </tr>\n",
       "  </thead>\n",
       "  <tbody>\n",
       "    <tr>\n",
       "      <th>0</th>\n",
       "      <td>120L_1</td>\n",
       "      <td>MNIFEMLRIDEGLRLKIYKDTEGYYTIGIGHLLTKSPSLNSAKSEL...</td>\n",
       "      <td>0000000000000000000000000000000000000000000000...</td>\n",
       "      <td>5</td>\n",
       "    </tr>\n",
       "    <tr>\n",
       "      <th>1</th>\n",
       "      <td>13PK_1</td>\n",
       "      <td>EKKSINECDLKGKKVLIRVDFNVPVKNGKITNDYRIRSALPTLKKV...</td>\n",
       "      <td>0000000000000000000000000000000000000000000000...</td>\n",
       "      <td>4</td>\n",
       "    </tr>\n",
       "    <tr>\n",
       "      <th>2</th>\n",
       "      <td>155L_1</td>\n",
       "      <td>MNIFEMLRIDEGLRLKIYKDTEGYYTIGIGHLLTKSPSLNAAKSEL...</td>\n",
       "      <td>0000000000000000000000000000000000000000000000...</td>\n",
       "      <td>5</td>\n",
       "    </tr>\n",
       "    <tr>\n",
       "      <th>3</th>\n",
       "      <td>15C8_1</td>\n",
       "      <td>DIVLTQSPAIMSASLGERVTMTCTASSSVSSSNLHWYQQKPGSSPK...</td>\n",
       "      <td>0000000000000000000000000000000000000000000000...</td>\n",
       "      <td>5</td>\n",
       "    </tr>\n",
       "    <tr>\n",
       "      <th>4</th>\n",
       "      <td>15C8_2</td>\n",
       "      <td>EVQLQQSGAELVKPGASVKLSCTASGFNIKDTYMHWVKQKPEQGLE...</td>\n",
       "      <td>0000000000000000000000000000000000000000000000...</td>\n",
       "      <td>5</td>\n",
       "    </tr>\n",
       "    <tr>\n",
       "      <th>...</th>\n",
       "      <td>...</td>\n",
       "      <td>...</td>\n",
       "      <td>...</td>\n",
       "      <td>...</td>\n",
       "    </tr>\n",
       "    <tr>\n",
       "      <th>78963</th>\n",
       "      <td>8I2E_2</td>\n",
       "      <td>GSQSIKVKKGDTLWDLSRKYDTTISKIKSENHLRSDIIYVGQTLSI...</td>\n",
       "      <td>1111111111111111111111111111111111111111111111...</td>\n",
       "      <td>2</td>\n",
       "    </tr>\n",
       "    <tr>\n",
       "      <th>78964</th>\n",
       "      <td>8IBS_1</td>\n",
       "      <td>MEHRAFKWPQPLAGNKPRIWYGGDYNPDQWPEEVWDEDVALMQQAG...</td>\n",
       "      <td>0000000000000000000000000000000000000000000000...</td>\n",
       "      <td>4</td>\n",
       "    </tr>\n",
       "    <tr>\n",
       "      <th>78965</th>\n",
       "      <td>8OEP_2</td>\n",
       "      <td>RQERLQRRRETQV</td>\n",
       "      <td>1100000000000</td>\n",
       "      <td>2</td>\n",
       "    </tr>\n",
       "    <tr>\n",
       "      <th>78966</th>\n",
       "      <td>8P5O_1</td>\n",
       "      <td>GPDSITEYPDKTIHQLFTEQVEKTPEHVAVVFEDEKVTYRELHERS...</td>\n",
       "      <td>1111111000000000000000000000000000000000000000...</td>\n",
       "      <td>1</td>\n",
       "    </tr>\n",
       "    <tr>\n",
       "      <th>78967</th>\n",
       "      <td>9PAI_1</td>\n",
       "      <td>VHHPPSYVAHLASDFGVRVFQQVAQASKDRNVVFSPYGVASVLAML...</td>\n",
       "      <td>0000000000000000000000000000000000000000000000...</td>\n",
       "      <td>4</td>\n",
       "    </tr>\n",
       "  </tbody>\n",
       "</table>\n",
       "<p>78968 rows × 4 columns</p>\n",
       "</div>"
      ],
      "text/plain": [
       "           id                                           sequence  \\\n",
       "0      120L_1  MNIFEMLRIDEGLRLKIYKDTEGYYTIGIGHLLTKSPSLNSAKSEL...   \n",
       "1      13PK_1  EKKSINECDLKGKKVLIRVDFNVPVKNGKITNDYRIRSALPTLKKV...   \n",
       "2      155L_1  MNIFEMLRIDEGLRLKIYKDTEGYYTIGIGHLLTKSPSLNAAKSEL...   \n",
       "3      15C8_1  DIVLTQSPAIMSASLGERVTMTCTASSSVSSSNLHWYQQKPGSSPK...   \n",
       "4      15C8_2  EVQLQQSGAELVKPGASVKLSCTASGFNIKDTYMHWVKQKPEQGLE...   \n",
       "...       ...                                                ...   \n",
       "78963  8I2E_2  GSQSIKVKKGDTLWDLSRKYDTTISKIKSENHLRSDIIYVGQTLSI...   \n",
       "78964  8IBS_1  MEHRAFKWPQPLAGNKPRIWYGGDYNPDQWPEEVWDEDVALMQQAG...   \n",
       "78965  8OEP_2                                      RQERLQRRRETQV   \n",
       "78966  8P5O_1  GPDSITEYPDKTIHQLFTEQVEKTPEHVAVVFEDEKVTYRELHERS...   \n",
       "78967  9PAI_1  VHHPPSYVAHLASDFGVRVFQQVAQASKDRNVVFSPYGVASVLAML...   \n",
       "\n",
       "                                               reference  fold  \n",
       "0      0000000000000000000000000000000000000000000000...     5  \n",
       "1      0000000000000000000000000000000000000000000000...     4  \n",
       "2      0000000000000000000000000000000000000000000000...     5  \n",
       "3      0000000000000000000000000000000000000000000000...     5  \n",
       "4      0000000000000000000000000000000000000000000000...     5  \n",
       "...                                                  ...   ...  \n",
       "78963  1111111111111111111111111111111111111111111111...     2  \n",
       "78964  0000000000000000000000000000000000000000000000...     4  \n",
       "78965                                      1100000000000     2  \n",
       "78966  1111111000000000000000000000000000000000000000...     1  \n",
       "78967  0000000000000000000000000000000000000000000000...     4  \n",
       "\n",
       "[78968 rows x 4 columns]"
      ]
     },
     "execution_count": 43,
     "metadata": {},
     "output_type": "execute_result"
    }
   ],
   "source": [
    "df_entityDataset"
   ]
  },
  {
   "cell_type": "code",
   "execution_count": 44,
   "id": "559045de-1927-442f-87f2-6cab6daab367",
   "metadata": {},
   "outputs": [],
   "source": [
    "df_entityDataset = pd.merge(df_entityDataset, df_clstr, on='id')"
   ]
  },
  {
   "cell_type": "code",
   "execution_count": 45,
   "id": "1f40d344-8ff2-4dc5-adc4-f7490fae71da",
   "metadata": {},
   "outputs": [
    {
     "data": {
      "text/html": [
       "<div>\n",
       "<style scoped>\n",
       "    .dataframe tbody tr th:only-of-type {\n",
       "        vertical-align: middle;\n",
       "    }\n",
       "\n",
       "    .dataframe tbody tr th {\n",
       "        vertical-align: top;\n",
       "    }\n",
       "\n",
       "    .dataframe thead th {\n",
       "        text-align: right;\n",
       "    }\n",
       "</style>\n",
       "<table border=\"1\" class=\"dataframe\">\n",
       "  <thead>\n",
       "    <tr style=\"text-align: right;\">\n",
       "      <th></th>\n",
       "      <th>id</th>\n",
       "      <th>sequence</th>\n",
       "      <th>reference</th>\n",
       "      <th>fold</th>\n",
       "      <th>clstr_id</th>\n",
       "    </tr>\n",
       "  </thead>\n",
       "  <tbody>\n",
       "    <tr>\n",
       "      <th>0</th>\n",
       "      <td>120L_1</td>\n",
       "      <td>MNIFEMLRIDEGLRLKIYKDTEGYYTIGIGHLLTKSPSLNSAKSEL...</td>\n",
       "      <td>0000000000000000000000000000000000000000000000...</td>\n",
       "      <td>5</td>\n",
       "      <td>7DDZ_1</td>\n",
       "    </tr>\n",
       "    <tr>\n",
       "      <th>1</th>\n",
       "      <td>13PK_1</td>\n",
       "      <td>EKKSINECDLKGKKVLIRVDFNVPVKNGKITNDYRIRSALPTLKKV...</td>\n",
       "      <td>0000000000000000000000000000000000000000000000...</td>\n",
       "      <td>4</td>\n",
       "      <td>1LTK_1</td>\n",
       "    </tr>\n",
       "  </tbody>\n",
       "</table>\n",
       "</div>"
      ],
      "text/plain": [
       "       id                                           sequence  \\\n",
       "0  120L_1  MNIFEMLRIDEGLRLKIYKDTEGYYTIGIGHLLTKSPSLNSAKSEL...   \n",
       "1  13PK_1  EKKSINECDLKGKKVLIRVDFNVPVKNGKITNDYRIRSALPTLKKV...   \n",
       "\n",
       "                                           reference  fold clstr_id  \n",
       "0  0000000000000000000000000000000000000000000000...     5   7DDZ_1  \n",
       "1  0000000000000000000000000000000000000000000000...     4   1LTK_1  "
      ]
     },
     "execution_count": 45,
     "metadata": {},
     "output_type": "execute_result"
    }
   ],
   "source": [
    "df_entityDataset[:2]"
   ]
  },
  {
   "cell_type": "code",
   "execution_count": 46,
   "id": "63ac8648-7efa-4595-8f22-cbccd9693d57",
   "metadata": {},
   "outputs": [],
   "source": [
    "# save\n",
    "list_entityDataset = df_entityDataset.to_dict(orient='records')\n",
    "dump_list2json(list_entityDataset, paramsPDB.path_IDRdataset_100)"
   ]
  },
  {
   "cell_type": "markdown",
   "id": "27ee40de-52ab-4bd8-b956-058b5e0fc550",
   "metadata": {},
   "source": [
    "# 2. Separate dataset into 5 folds"
   ]
  },
  {
   "cell_type": "code",
   "execution_count": 47,
   "id": "1f619d68-f711-4419-8af5-0e2d18a6b160",
   "metadata": {},
   "outputs": [
    {
     "data": {
      "text/html": [
       "<div>\n",
       "<style scoped>\n",
       "    .dataframe tbody tr th:only-of-type {\n",
       "        vertical-align: middle;\n",
       "    }\n",
       "\n",
       "    .dataframe tbody tr th {\n",
       "        vertical-align: top;\n",
       "    }\n",
       "\n",
       "    .dataframe thead th {\n",
       "        text-align: right;\n",
       "    }\n",
       "</style>\n",
       "<table border=\"1\" class=\"dataframe\">\n",
       "  <thead>\n",
       "    <tr style=\"text-align: right;\">\n",
       "      <th></th>\n",
       "      <th>id</th>\n",
       "      <th>sequence</th>\n",
       "      <th>reference</th>\n",
       "      <th>fold</th>\n",
       "      <th>clstr_id</th>\n",
       "    </tr>\n",
       "  </thead>\n",
       "  <tbody>\n",
       "    <tr>\n",
       "      <th>0</th>\n",
       "      <td>120L_1</td>\n",
       "      <td>MNIFEMLRIDEGLRLKIYKDTEGYYTIGIGHLLTKSPSLNSAKSEL...</td>\n",
       "      <td>0000000000000000000000000000000000000000000000...</td>\n",
       "      <td>5</td>\n",
       "      <td>7DDZ_1</td>\n",
       "    </tr>\n",
       "    <tr>\n",
       "      <th>1</th>\n",
       "      <td>13PK_1</td>\n",
       "      <td>EKKSINECDLKGKKVLIRVDFNVPVKNGKITNDYRIRSALPTLKKV...</td>\n",
       "      <td>0000000000000000000000000000000000000000000000...</td>\n",
       "      <td>4</td>\n",
       "      <td>1LTK_1</td>\n",
       "    </tr>\n",
       "  </tbody>\n",
       "</table>\n",
       "</div>"
      ],
      "text/plain": [
       "       id                                           sequence  \\\n",
       "0  120L_1  MNIFEMLRIDEGLRLKIYKDTEGYYTIGIGHLLTKSPSLNSAKSEL...   \n",
       "1  13PK_1  EKKSINECDLKGKKVLIRVDFNVPVKNGKITNDYRIRSALPTLKKV...   \n",
       "\n",
       "                                           reference  fold clstr_id  \n",
       "0  0000000000000000000000000000000000000000000000...     5   7DDZ_1  \n",
       "1  0000000000000000000000000000000000000000000000...     4   1LTK_1  "
      ]
     },
     "execution_count": 47,
     "metadata": {},
     "output_type": "execute_result"
    }
   ],
   "source": [
    "list_entityDataset = read_json2list(paramsPDB.path_IDRdataset_100)\n",
    "df_entityDataset = pd.DataFrame(list_entityDataset)\n",
    "df_entityDataset[:2]"
   ]
  },
  {
   "cell_type": "code",
   "execution_count": 48,
   "id": "5e0c8087-3814-49f2-bf67-782e6c4ce933",
   "metadata": {},
   "outputs": [
    {
     "data": {
      "text/html": [
       "<div>\n",
       "<style scoped>\n",
       "    .dataframe tbody tr th:only-of-type {\n",
       "        vertical-align: middle;\n",
       "    }\n",
       "\n",
       "    .dataframe tbody tr th {\n",
       "        vertical-align: top;\n",
       "    }\n",
       "\n",
       "    .dataframe thead th {\n",
       "        text-align: right;\n",
       "    }\n",
       "</style>\n",
       "<table border=\"1\" class=\"dataframe\">\n",
       "  <thead>\n",
       "    <tr style=\"text-align: right;\">\n",
       "      <th></th>\n",
       "      <th>clstr_id</th>\n",
       "      <th>id</th>\n",
       "    </tr>\n",
       "  </thead>\n",
       "  <tbody>\n",
       "    <tr>\n",
       "      <th>0</th>\n",
       "      <td>1O6P_2</td>\n",
       "      <td>1O6P_2</td>\n",
       "    </tr>\n",
       "    <tr>\n",
       "      <th>1</th>\n",
       "      <td>1O82_1</td>\n",
       "      <td>1O82_1</td>\n",
       "    </tr>\n",
       "  </tbody>\n",
       "</table>\n",
       "</div>"
      ],
      "text/plain": [
       "  clstr_id      id\n",
       "0   1O6P_2  1O6P_2\n",
       "1   1O82_1  1O82_1"
      ]
     },
     "execution_count": 48,
     "metadata": {},
     "output_type": "execute_result"
    }
   ],
   "source": [
    "df_clstr = pd.read_csv(paramsPDB.path_cls30_tab, header=None, names=['clstr_id', 'id'], sep='\\t')\n",
    "df_clstr[:2]"
   ]
  },
  {
   "cell_type": "code",
   "execution_count": 49,
   "id": "b6e96b29-5abd-47d2-958f-e031d3545986",
   "metadata": {},
   "outputs": [
    {
     "data": {
      "text/plain": [
       "(23581, 4716)"
      ]
     },
     "execution_count": 49,
     "metadata": {},
     "output_type": "execute_result"
    }
   ],
   "source": [
    "list_clstr = list(df_clstr['clstr_id'].unique())\n",
    "# number of clusters in each fold\n",
    "num_k = len(list_clstr)//5\n",
    "len(list_clstr), num_k"
   ]
  },
  {
   "cell_type": "code",
   "execution_count": 50,
   "id": "4f3a2758-7917-4623-af78-e9b94a55dbbc",
   "metadata": {},
   "outputs": [],
   "source": [
    "# initial fold info\n",
    "df_entityDataset['fold'] = 0"
   ]
  },
  {
   "cell_type": "code",
   "execution_count": 51,
   "id": "f7f31168-2a87-4e68-b392-0c47ac9baf9e",
   "metadata": {},
   "outputs": [],
   "source": [
    "# shuffle the clusters\n",
    "random.shuffle(list_clstr)"
   ]
  },
  {
   "cell_type": "code",
   "execution_count": 52,
   "id": "e6418657-54ff-48a9-8d04-0b5a47037a66",
   "metadata": {},
   "outputs": [],
   "source": [
    "for k in range(1, 6):\n",
    "    if k==5:\n",
    "        clstr_foldK = list_clstr[(k-1)*num_k:]\n",
    "    else:\n",
    "        clstr_foldK = list_clstr[(k-1)*num_k: k*num_k]\n",
    "    df_entityDataset.loc[df_entityDataset['clstr_id'].isin(clstr_foldK), 'fold'] = k"
   ]
  },
  {
   "cell_type": "code",
   "execution_count": 53,
   "id": "c40dd39f-460a-427c-8faa-4f09b6d41039",
   "metadata": {},
   "outputs": [
    {
     "data": {
      "text/plain": [
       "4702"
      ]
     },
     "execution_count": 53,
     "metadata": {},
     "output_type": "execute_result"
    }
   ],
   "source": [
    "len(df_entityDataset[df_entityDataset['fold']==4]['clstr_id'].unique())"
   ]
  },
  {
   "cell_type": "code",
   "execution_count": 54,
   "id": "66985555-e4e6-4bfd-8251-c87b6b18cb55",
   "metadata": {},
   "outputs": [],
   "source": [
    "# save\n",
    "list_entityDataset = df_entityDataset.to_dict(orient='records')\n",
    "dump_list2json(list_entityDataset, paramsPDB.path_IDRdataset_100)"
   ]
  },
  {
   "cell_type": "code",
   "execution_count": null,
   "id": "44ea17ab-e330-4dd5-badf-0e89b7d646ae",
   "metadata": {},
   "outputs": [],
   "source": []
  }
 ],
 "metadata": {
  "kernelspec": {
   "display_name": "Python 3 (ipykernel)",
   "language": "python",
   "name": "python3"
  },
  "language_info": {
   "codemirror_mode": {
    "name": "ipython",
    "version": 3
   },
   "file_extension": ".py",
   "mimetype": "text/x-python",
   "name": "python",
   "nbconvert_exporter": "python",
   "pygments_lexer": "ipython3",
   "version": "3.11.6"
  }
 },
 "nbformat": 4,
 "nbformat_minor": 5
}
