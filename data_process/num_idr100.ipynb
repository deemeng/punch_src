{
 "cells": [
  {
   "cell_type": "code",
   "execution_count": 2,
   "id": "2b5f7ea0-f219-49e1-958c-aa9fb91f5e10",
   "metadata": {},
   "outputs": [
    {
     "data": {
      "text/plain": [
       "<torch.autograd.grad_mode.set_grad_enabled at 0x7fe2f4343250>"
      ]
     },
     "execution_count": 2,
     "metadata": {},
     "output_type": "execute_result"
    }
   ],
   "source": [
    "from typing import List, Tuple, Optional, Dict, NamedTuple, Union, Callable\n",
    "import itertools\n",
    "import os\n",
    "import string\n",
    "from pathlib import Path\n",
    "\n",
    "import numpy as np\n",
    "import pandas as pd\n",
    "import torch\n",
    "\n",
    "from Bio import SeqIO\n",
    "\n",
    "from tqdm import tqdm\n",
    "\n",
    "import esm\n",
    "\n",
    "from utils.file import save_np, csv2df, read_json2list\n",
    "from utils.alignmentParser import read_msa, greedy_select\n",
    "from params.PDBparser import *\n",
    "\n",
    "torch.set_grad_enabled(False)\n"
   ]
  },
  {
   "cell_type": "code",
   "execution_count": null,
   "id": "bd6698af-a0af-4a4a-bf6e-f793adb977e3",
   "metadata": {},
   "outputs": [],
   "source": []
  },
  {
   "cell_type": "code",
   "execution_count": 10,
   "id": "e705026f-510c-4686-b1c8-d0fe424b989b",
   "metadata": {},
   "outputs": [],
   "source": [
    "df_entityFeature100 = pd.DataFrame(read_json2list(path_IDR_fullyDisordered_dataset_100))\n",
    "df_entityFeature100['length'] = [len(seq) for seq in df_entityFeature100['sequence']]\n",
    "df_entityFeature100 = df_entityFeature100[df_entityFeature100['length']<=1022]\n",
    "\n",
    "PDB_IDS = list(set(df_entityFeature100['id'].tolist()))"
   ]
  },
  {
   "cell_type": "code",
   "execution_count": 11,
   "id": "692457f3-28b1-42d1-ae9e-92913f343275",
   "metadata": {},
   "outputs": [
    {
     "data": {
      "text/plain": [
       "78549"
      ]
     },
     "execution_count": 11,
     "metadata": {},
     "output_type": "execute_result"
    }
   ],
   "source": [
    "len(PDB_IDS)"
   ]
  },
  {
   "cell_type": "code",
   "execution_count": 12,
   "id": "c1f0457b-e08d-49f2-a668-49297898f283",
   "metadata": {},
   "outputs": [
    {
     "name": "stdout",
     "output_type": "stream",
     "text": [
      "The number of unembedded: 55076\n"
     ]
    }
   ],
   "source": [
    "'''\n",
    "START\n",
    "Only for if some proteins are missing here.\n",
    "'''\n",
    "embedd_PDB_IDS = [fname[:-4] for fname in os.listdir(path_embedded_msaTrans)]\n",
    "unembedd_PDB_IDS = list(set(PDB_IDS) - set(embedd_PDB_IDS))\n",
    "PDB_IDS = unembedd_PDB_IDS\n",
    "print(f'The number of unembedded: {len(PDB_IDS)}')"
   ]
  },
  {
   "cell_type": "code",
   "execution_count": 13,
   "id": "6d5cc784-54a1-46a7-9c8e-21376aeb8a41",
   "metadata": {},
   "outputs": [
    {
     "data": {
      "text/plain": [
       "23540"
      ]
     },
     "execution_count": 13,
     "metadata": {},
     "output_type": "execute_result"
    }
   ],
   "source": [
    "len(set(embedd_PDB_IDS))"
   ]
  },
  {
   "cell_type": "code",
   "execution_count": null,
   "id": "4ac8cf44-95ed-4629-9da2-27e53d4b56de",
   "metadata": {},
   "outputs": [],
   "source": []
  }
 ],
 "metadata": {
  "kernelspec": {
   "display_name": "Python 3 (ipykernel)",
   "language": "python",
   "name": "python3"
  },
  "language_info": {
   "codemirror_mode": {
    "name": "ipython",
    "version": 3
   },
   "file_extension": ".py",
   "mimetype": "text/x-python",
   "name": "python",
   "nbconvert_exporter": "python",
   "pygments_lexer": "ipython3",
   "version": "3.11.6"
  }
 },
 "nbformat": 4,
 "nbformat_minor": 5
}
