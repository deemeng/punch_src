{
 "cells": [
  {
   "cell_type": "markdown",
   "id": "43806680-ba5b-4d94-9810-18ee947526ca",
   "metadata": {},
   "source": [
    "## find more info in dunnion server /home/dimeng/project/data/pdb_entity30/separate_seq.ipynb"
   ]
  },
  {
   "cell_type": "code",
   "execution_count": 8,
   "id": "959ac9e5-cc9a-4c80-96ee-b450170b5c4f",
   "metadata": {},
   "outputs": [],
   "source": [
    "import os\n",
    "import json\n",
    "import Bio\n",
    "from Bio import SeqIO\n",
    "\n",
    "import params.PDBparser as paramsPDB\n",
    "import pandas as pd\n",
    "from utils.file import read_json2list"
   ]
  },
  {
   "cell_type": "markdown",
   "id": "089e8c6e-7835-43a3-b992-c45fa4776a75",
   "metadata": {},
   "source": [
    "## Disprot"
   ]
  },
  {
   "cell_type": "code",
   "execution_count": 4,
   "id": "92702593-ff28-4d63-9165-48f5ac2a2309",
   "metadata": {},
   "outputs": [],
   "source": [
    "path_single_fasta = paramsPDB.path_disprot_dataset_fullDisordered_seq\n",
    "path_folder_fasta = paramsPDB.path_disprot_dataset_fullDisordered_seq_folder"
   ]
  },
  {
   "cell_type": "code",
   "execution_count": 5,
   "id": "ee5e3688-f413-4455-8d71-645e90929b9f",
   "metadata": {},
   "outputs": [],
   "source": [
    "with open(path_single_fasta) as handle:\n",
    "    for record in SeqIO.parse(handle, \"fasta\"):\n",
    "        seq_path = os.path.join(path_folder_fasta, f'{record.id}')\n",
    "        SeqIO.write([record], seq_path, \"fasta\")"
   ]
  },
  {
   "cell_type": "markdown",
   "id": "4dba0068-dd25-4703-9e94-10ef763aa50e",
   "metadata": {},
   "source": [
    "## CAID (!!ERROR)"
   ]
  },
  {
   "cell_type": "code",
   "execution_count": 2,
   "id": "efa15b09-ff91-4831-b527-7e25d2fe5fb5",
   "metadata": {},
   "outputs": [],
   "source": [
    "path_single_fasta = paramsPDB.path_idr_pdb\n",
    "path_folder_fasta = paramsPDB.path_idr_pdb_folder"
   ]
  },
  {
   "cell_type": "code",
   "execution_count": 18,
   "id": "9a9b27c7-6fc9-4af7-9f02-247448177e97",
   "metadata": {},
   "outputs": [],
   "source": [
    "df_caid= pd.DataFrame(read_json2list(paramsPDB.path_caid_dataset_json)) # entities' features\n",
    "df_caid_1022 = df_caid[df_caid['length']<=1022]\n",
    "list_longSq_id = set(df_caid['id']) - set(df_caid_1022['id'])"
   ]
  },
  {
   "cell_type": "code",
   "execution_count": 19,
   "id": "d4c17daf-5247-4401-90a5-77df4e9e9a05",
   "metadata": {},
   "outputs": [],
   "source": [
    "with open(path_single_fasta) as handle:\n",
    "    for record in SeqIO.parse(handle, \"fasta\"):\n",
    "        if record.id in list_longSq_id:\n",
    "            continue\n",
    "        seq_path = os.path.join(path_folder_fasta, f'{record.id}')\n",
    "        SeqIO.write([record], seq_path, \"fasta\")"
   ]
  },
  {
   "cell_type": "markdown",
   "id": "d08816e8-03e3-4ebf-a03f-387cbb6617a4",
   "metadata": {},
   "source": [
    "## PDB missing"
   ]
  },
  {
   "cell_type": "code",
   "execution_count": 4,
   "id": "98d28631-249e-4397-aab3-bb738e158d3f",
   "metadata": {},
   "outputs": [],
   "source": [
    "df_pdbMissing= pd.DataFrame(read_json2list(paramsPDB.path_IDRdataset_100))\n",
    "df_pdbMissing['length'] = [len(seq) for seq in df_pdbMissing['sequence']]\n",
    "df_pdbMissing = df_pdbMissing[df_pdbMissing['length']<=1022]"
   ]
  },
  {
   "cell_type": "code",
   "execution_count": 5,
   "id": "04edae16-98d4-47e7-8347-4eb99307f958",
   "metadata": {},
   "outputs": [],
   "source": [
    "df_pdbMissing_30= pd.DataFrame(read_json2list(paramsPDB.path_IDRdataset))\n",
    "diff_ids = set(df_pdbMissing['id']) - set(df_pdbMissing_30['id'])\n",
    "df_pdbMissing_rest = df_pdbMissing.loc[df_pdbMissing['id'].isin(diff_ids), :]"
   ]
  },
  {
   "cell_type": "code",
   "execution_count": 6,
   "id": "6e48f301-7ffa-4980-b435-d3628e59ee79",
   "metadata": {},
   "outputs": [
    {
     "data": {
      "text/plain": [
       "55076"
      ]
     },
     "execution_count": 6,
     "metadata": {},
     "output_type": "execute_result"
    }
   ],
   "source": [
    "df_pdbMissing_rest.shape[0]"
   ]
  },
  {
   "cell_type": "code",
   "execution_count": 7,
   "id": "0348e99c-3669-4502-a384-7df93caad460",
   "metadata": {},
   "outputs": [],
   "source": [
    "path_single_fasta = paramsPDB.path_cls100Rep\n",
    "path_folder_fasta = paramsPDB.path_pdb100_seq\n",
    "with open(path_single_fasta) as handle:\n",
    "    for record in SeqIO.parse(handle, \"fasta\"):\n",
    "        if record.id in diff_ids:\n",
    "            seq_path = os.path.join(path_folder_fasta, f'{record.id}')\n",
    "            SeqIO.write([record], seq_path, \"fasta\")"
   ]
  },
  {
   "cell_type": "code",
   "execution_count": 32,
   "id": "18e1b115-fead-48f2-b028-484990c9bbab",
   "metadata": {},
   "outputs": [],
   "source": []
  },
  {
   "cell_type": "code",
   "execution_count": 35,
   "id": "c707e030-5dc8-4fc6-a591-c0c0037a5ccd",
   "metadata": {},
   "outputs": [],
   "source": []
  },
  {
   "cell_type": "markdown",
   "id": "2498873b-2870-4aef-8a1b-13d511a369f0",
   "metadata": {},
   "source": [
    "## New CAID"
   ]
  },
  {
   "cell_type": "code",
   "execution_count": 19,
   "id": "742c0763-3dd0-41d6-9f6e-18247b4459bd",
   "metadata": {},
   "outputs": [],
   "source": [
    "import json\n",
    "from utils.file import read_json2list\n",
    "from utils.caidParser import read_fasta2list\n",
    "\n",
    "from params.PDBparser import *\n",
    "from Bio.Seq import Seq\n",
    "from Bio.SeqRecord import SeqRecord"
   ]
  },
  {
   "cell_type": "code",
   "execution_count": 20,
   "id": "9a594f16-1db3-4859-a0bf-8b78802993ed",
   "metadata": {},
   "outputs": [],
   "source": [
    "path_folder_fasta = paramsPDB.path_idr_pdb_folder\n",
    "list_idr = read_json2list(path_caid_dataset_json)"
   ]
  },
  {
   "cell_type": "code",
   "execution_count": 21,
   "id": "b772c0c4-5756-446e-be53-90b0cd316828",
   "metadata": {},
   "outputs": [],
   "source": [
    "for idr in list_idr:\n",
    "    record = SeqRecord(\n",
    "        Seq(idr['sequence']),\n",
    "        id=idr['id']\n",
    "        )\n",
    "    seq_path = os.path.join(path_folder_fasta, f'{idr['id']}')\n",
    "    SeqIO.write([record], seq_path, \"fasta\")"
   ]
  },
  {
   "cell_type": "code",
   "execution_count": null,
   "id": "d4ae029c-5935-4295-a3ca-cca77549f9a9",
   "metadata": {},
   "outputs": [],
   "source": []
  }
 ],
 "metadata": {
  "kernelspec": {
   "display_name": "Python 3 (ipykernel)",
   "language": "python",
   "name": "python3"
  },
  "language_info": {
   "codemirror_mode": {
    "name": "ipython",
    "version": 3
   },
   "file_extension": ".py",
   "mimetype": "text/x-python",
   "name": "python",
   "nbconvert_exporter": "python",
   "pygments_lexer": "ipython3",
   "version": "3.12.2"
  }
 },
 "nbformat": 4,
 "nbformat_minor": 5
}
