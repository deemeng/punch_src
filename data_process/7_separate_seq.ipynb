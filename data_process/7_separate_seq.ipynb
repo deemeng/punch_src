{
 "cells": [
  {
   "cell_type": "code",
   "execution_count": null,
   "id": "bf451f39-03d0-47a3-9cdd-5c5a018264fa",
   "metadata": {},
   "outputs": [],
   "source": [
    "import os\n",
    "import Bio\n",
    "from Bio import SeqIO\n",
    "\n",
    "import params.PDBparser as paramsPDB\n",
    "from utils.file import dump_list2json\n",
    "from utils.pdbParser import get_missing_tab, get_missing_idx\n",
    "\n",
    "import pandas as pd"
   ]
  },
  {
   "cell_type": "code",
   "execution_count": null,
   "id": "959ac9e5-cc9a-4c80-96ee-b450170b5c4f",
   "metadata": {},
   "outputs": [],
   "source": []
  },
  {
   "cell_type": "code",
   "execution_count": null,
   "id": "a8f71227-13dd-43fb-954b-3403db2a9e59",
   "metadata": {},
   "outputs": [],
   "source": []
  },
  {
   "cell_type": "code",
   "execution_count": null,
   "id": "92702593-ff28-4d63-9165-48f5ac2a2309",
   "metadata": {},
   "outputs": [],
   "source": []
  },
  {
   "cell_type": "code",
   "execution_count": null,
   "id": "82efddac-da76-4f02-b9d3-9d2b147b8e93",
   "metadata": {},
   "outputs": [],
   "source": [
    "with open(paramsPDB.path_cls30Rep) as handle:\n",
    "    for record in SeqIO.parse(handle, \"fasta\"):\n",
    "        id_entryEtity = record.id\n",
    "        seq_entity = record.seq\n",
    "        print(id_entryEtity)\n",
    "        \n",
    "        entryID = id_entryEtity.split('_')[0]\n",
    "        entityID = int(id_entryEtity.split('_')[1])\n",
    "        \n",
    "        key = (entryID, entityID)\n",
    "        chains = dict_entity_chain[key]\n",
    "        path_entry = os.path.join(paramsPDB.path_mmcif, f'{entryID.lower()}_updated.cif')\n",
    "        \n",
    "        df_missing = get_missing_tab(path_entry)\n",
    "        missing_idx = get_missing_idx(df_missing, chains)\n",
    "        \n",
    "        list_reference = [1 if i+1 in missing_idx else 0 for i in range(len(seq_entity))]\n",
    "        \n",
    "        # list of dictionaries\n",
    "        entityData = {}\n",
    "        entityData['id'] = id_entryEtity\n",
    "        entityData['sequence'] = str(seq_entity)\n",
    "        entityData['reference'] = ''.join(str(x) for x in list_reference)\n",
    "        list_entityDataset.append(entityData)"
   ]
  }
 ],
 "metadata": {
  "kernelspec": {
   "display_name": "Python 3 (ipykernel)",
   "language": "python",
   "name": "python3"
  },
  "language_info": {
   "codemirror_mode": {
    "name": "ipython",
    "version": 3
   },
   "file_extension": ".py",
   "mimetype": "text/x-python",
   "name": "python",
   "nbconvert_exporter": "python",
   "pygments_lexer": "ipython3",
   "version": "3.11.4"
  }
 },
 "nbformat": 4,
 "nbformat_minor": 5
}
