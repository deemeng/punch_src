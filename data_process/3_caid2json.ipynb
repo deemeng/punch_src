{
 "cells": [
  {
   "cell_type": "markdown",
   "id": "4563ddc7-fd79-49f2-a67f-be5a4bfc760c",
   "metadata": {},
   "source": [
    "# Aim\n",
    "This script aims to convert diorder_pdb.fasta file to our JSON file style. \\\n",
    "Our JSON file style: \\\n",
    "    - a list of dict \\\n",
    "    - for each dict: \n",
    "        1. id;\n",
    "        2. sequence;\n",
    "        3. reference;\n",
    "        4. contain_idr - 1/0\n",
    "    "
   ]
  },
  {
   "cell_type": "code",
   "execution_count": 1,
   "id": "2973be72-5c8e-4f66-97fb-8cfff9176fc2",
   "metadata": {},
   "outputs": [],
   "source": [
    "import json\n",
    "from utils.file import dump_list2json\n",
    "from utils.caidParser import read_fasta2list\n",
    "\n",
    "from params.PDBparser import *"
   ]
  },
  {
   "cell_type": "code",
   "execution_count": 2,
   "id": "dfdd5028-9468-42c4-af60-d314e5c13fbf",
   "metadata": {},
   "outputs": [],
   "source": [
    "list_idr = read_fasta2list(path_idr_pdb)"
   ]
  },
  {
   "cell_type": "code",
   "execution_count": 3,
   "id": "48af5b1b-f056-47e1-86b1-00d30bf5ab0b",
   "metadata": {},
   "outputs": [],
   "source": [
    "dump_list2json(list_idr, path_caid_dataset_json)"
   ]
  },
  {
   "cell_type": "code",
   "execution_count": null,
   "id": "91f5d3fc-a1ec-4af6-835e-783aa57719c5",
   "metadata": {},
   "outputs": [],
   "source": []
  }
 ],
 "metadata": {
  "kernelspec": {
   "display_name": "Python 3 (ipykernel)",
   "language": "python",
   "name": "python3"
  },
  "language_info": {
   "codemirror_mode": {
    "name": "ipython",
    "version": 3
   },
   "file_extension": ".py",
   "mimetype": "text/x-python",
   "name": "python",
   "nbconvert_exporter": "python",
   "pygments_lexer": "ipython3",
   "version": "3.12.2"
  }
 },
 "nbformat": 4,
 "nbformat_minor": 5
}
