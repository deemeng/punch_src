{
 "cells": [
  {
   "cell_type": "markdown",
   "id": "4563ddc7-fd79-49f2-a67f-be5a4bfc760c",
   "metadata": {},
   "source": [
    "# Aim\n",
    "This script aims to extract Fully disordered sequences from release_2023_06 with_ambiguous_evidences.json JSON, and save these fully disordered as our file style. \\\n",
    "Our JSON file style: \\\n",
    "    - a list of dict \\\n",
    "    - for each dict: \n",
    "        1. id;\n",
    "        2. sequence;\n",
    "        3. reference;\n",
    "        4. contain_idr - 1/0\n",
    "    "
   ]
  },
  {
   "cell_type": "code",
   "execution_count": 1,
   "id": "2973be72-5c8e-4f66-97fb-8cfff9176fc2",
   "metadata": {},
   "outputs": [],
   "source": [
    "import json\n",
    "from utils.file import dump_list2json, read_json2dict, read_json2list\n",
    "import pandas as pd\n",
    "\n",
    "from params.PDBparser import *\n",
    "\n",
    "import matplotlib\n",
    "from matplotlib import pyplot as plt\n",
    "import seaborn as sns\n",
    "\n",
    "from sklearn import metrics"
   ]
  },
  {
   "cell_type": "markdown",
   "id": "01886108-3508-4ae7-9702-7cdb19cab622",
   "metadata": {
    "jp-MarkdownHeadingCollapsed": true
   },
   "source": [
    "# 1. Generate JSON & Fasta file"
   ]
  },
  {
   "cell_type": "markdown",
   "id": "240f9bf5-1a67-41f6-a0e6-c626116804a0",
   "metadata": {},
   "source": [
    "## 1.1. Load disprot dataset\n",
    ">2649 sequences in total."
   ]
  },
  {
   "cell_type": "code",
   "execution_count": 2,
   "id": "48af5b1b-f056-47e1-86b1-00d30bf5ab0b",
   "metadata": {},
   "outputs": [
    {
     "data": {
      "text/plain": [
       "(2649, 2649)"
      ]
     },
     "execution_count": 2,
     "metadata": {},
     "output_type": "execute_result"
    }
   ],
   "source": [
    "disprot_all_org = read_json2dict(path_disprot_all)\n",
    "list_disprot_all_org = disprot_all_org['data']\n",
    "disprot_all_org['size'], len(list_disprot_all_org)"
   ]
  },
  {
   "cell_type": "markdown",
   "id": "326422de-573a-4cb1-8591-5a223d353c45",
   "metadata": {
    "jp-MarkdownHeadingCollapsed": true
   },
   "source": [
    "## 1.2. Extract & Save Disordered Sequences (Fully and Partially)\n",
    ">disorder_content=1, fully disordered\n",
    ">\n",
    ">Disorder region term-codes:\n",
    ">1. disorder ( IDPO:00076) A non-compact state in which atoms lack a fixed or ordered three-dimensional structure.\n",
    ">2. molten globule ( IDPO:00077) A compact state, with native secondary structure but lacking specific native tertiary interactions.\n",
    ">3. pre-molten globule ( IDPO:00078) A condensed but not compact state, with residual secondary structure, describing many native and non-native conformations in rapid equilibrium."
   ]
  },
  {
   "cell_type": "code",
   "execution_count": 56,
   "id": "98d6204a-7150-44d3-b700-df1acc7279e4",
   "metadata": {},
   "outputs": [],
   "source": [
    "list_disprot_disordered = [] # to save fully disordered sequences\n",
    "list_disprot_fully_disordered = [] # to save fully disordered sequences\n",
    "list_disorder_terms = ['IDPO:00076', 'IDPO:00077', 'IDPO:00078']"
   ]
  },
  {
   "cell_type": "code",
   "execution_count": 57,
   "id": "cdd54903-16f9-4439-ba9b-cbb0415c2bfd",
   "metadata": {},
   "outputs": [],
   "source": [
    "for disprot_seq in list_disprot_all_org:\n",
    "    \n",
    "    disprot_id = disprot_seq['disprot_id']\n",
    "    acc = disprot_seq['acc'] # Uniprot ID\n",
    "    disorder_content = disprot_seq['disorder_content'] # proportion of disorder [0, 1]\n",
    "    seq = disprot_seq['sequence']\n",
    "    length = disprot_seq['length']\n",
    "    contain_idr = 0\n",
    "    reference = [0] * length # use to save disordered annotations\n",
    "    \n",
    "    if disorder_content==1: # check if the sequence is fully disordered\n",
    "        reference = [1] * length\n",
    "        contain_idr = 1\n",
    "    else:\n",
    "        regions = disprot_seq['regions']\n",
    "        for r in regions:\n",
    "            if r['term_id'] not in  list_disorder_terms:\n",
    "                continue\n",
    "            contain_idr = 1\n",
    "            # update disordered annotation\n",
    "            reference[(r['start']-1): r['end']] = [1] * (r['end']-r['start']+1)\n",
    "    \n",
    "    reference = ''.join([str(r) for r in reference])\n",
    "    dict_seq = {\n",
    "        'id': disprot_id, 'acc': acc, 'sequence': seq, 'length': length,\n",
    "        'disorder_content': disorder_content,\n",
    "        'reference': reference, 'contain_idr': contain_idr\n",
    "    }\n",
    "    \n",
    "    if disorder_content == 1: # Fully disordered proteins\n",
    "        list_disprot_fully_disordered.append(dict_seq)\n",
    "        \n",
    "    list_disprot_disordered.append(dict_seq)"
   ]
  },
  {
   "cell_type": "markdown",
   "id": "1289ea05-1fc0-4a9a-857e-13f2df277f6e",
   "metadata": {},
   "source": [
    "**Saving**"
   ]
  },
  {
   "cell_type": "code",
   "execution_count": 58,
   "id": "6b78566b-57b7-4658-baeb-0aefedd9c180",
   "metadata": {},
   "outputs": [],
   "source": [
    "dump_list2json(list_disprot_fully_disordered, path_disprot_dataset_fullDisordered)\n",
    "dump_list2json(list_disprot_disordered, path_disprot_dataset_disordered)"
   ]
  },
  {
   "cell_type": "markdown",
   "id": "7d5fea20-2ec9-47d2-9e57-9db29179e342",
   "metadata": {
    "jp-MarkdownHeadingCollapsed": true
   },
   "source": [
    "## 1.3. Save to Fasta file"
   ]
  },
  {
   "cell_type": "code",
   "execution_count": 2,
   "id": "b77f516c-cede-45e7-95a0-7da34df38a30",
   "metadata": {},
   "outputs": [],
   "source": [
    "from Bio.Seq import Seq\n",
    "from Bio.SeqRecord import SeqRecord\n",
    "from Bio import SeqIO"
   ]
  },
  {
   "cell_type": "code",
   "execution_count": 3,
   "id": "66f07eb7-58cb-4261-a469-ffb0df37fcdf",
   "metadata": {},
   "outputs": [],
   "source": [
    "list_disprot_fully_disordered = read_json2list(path_disprot_dataset_fullDisordered)\n",
    "list_records = []\n",
    "\n",
    "for linker_info in list_disprot_fully_disordered:\n",
    "    record = SeqRecord(\n",
    "        Seq(linker_info['sequence']),\n",
    "        id=linker_info['id'],\n",
    "        name=f'acc:{linker_info[\"acc\"]}'\n",
    "    )\n",
    "\n",
    "    list_records.append(record)"
   ]
  },
  {
   "cell_type": "code",
   "execution_count": 4,
   "id": "53c30e84-9195-4d8c-9a63-561e650ea2f3",
   "metadata": {},
   "outputs": [],
   "source": [
    "with open(path_disprot_dataset_fullDisordered_seq, \"w\") as output_handle:\n",
    "    SeqIO.write(list_records, output_handle, \"fasta\")"
   ]
  },
  {
   "cell_type": "code",
   "execution_count": 5,
   "id": "8483ce11-c29a-4246-b5e6-3b6723c85500",
   "metadata": {},
   "outputs": [
    {
     "data": {
      "text/plain": [
       "184"
      ]
     },
     "execution_count": 5,
     "metadata": {},
     "output_type": "execute_result"
    }
   ],
   "source": [
    "len(list_records)"
   ]
  },
  {
   "cell_type": "code",
   "execution_count": null,
   "id": "2d804cc7-4cc1-4d94-ba95-c8058dd121c5",
   "metadata": {},
   "outputs": [],
   "source": []
  },
  {
   "cell_type": "code",
   "execution_count": null,
   "id": "fcfb8741-6524-4824-9513-a5b556778c74",
   "metadata": {},
   "outputs": [],
   "source": []
  },
  {
   "cell_type": "markdown",
   "id": "6986a865-b9d9-41b8-a76d-42a300af28ba",
   "metadata": {
    "jp-MarkdownHeadingCollapsed": true
   },
   "source": [
    "# 2. Some analysis"
   ]
  },
  {
   "cell_type": "code",
   "execution_count": 2,
   "id": "f8929a84-653f-45a5-9efa-4db944add90f",
   "metadata": {},
   "outputs": [],
   "source": [
    "list_disprot_fully_disordered = read_json2list(path_disprot_dataset_fullDisordered)\n",
    "list_disprot_disordered = read_json2list(path_disprot_dataset_disordered)"
   ]
  },
  {
   "cell_type": "code",
   "execution_count": 3,
   "id": "050a6f6b-9a0f-469c-8757-12d00f91ab96",
   "metadata": {},
   "outputs": [],
   "source": [
    "df_disprot_fully_disordered = pd.DataFrame(list_disprot_fully_disordered)\n",
    "df_disprot_disordered = pd.DataFrame(list_disprot_disordered)"
   ]
  },
  {
   "cell_type": "code",
   "execution_count": 61,
   "id": "9f057249-d54a-456e-8343-0067f91d41c7",
   "metadata": {},
   "outputs": [
    {
     "data": {
      "text/html": [
       "<div>\n",
       "<style scoped>\n",
       "    .dataframe tbody tr th:only-of-type {\n",
       "        vertical-align: middle;\n",
       "    }\n",
       "\n",
       "    .dataframe tbody tr th {\n",
       "        vertical-align: top;\n",
       "    }\n",
       "\n",
       "    .dataframe thead th {\n",
       "        text-align: right;\n",
       "    }\n",
       "</style>\n",
       "<table border=\"1\" class=\"dataframe\">\n",
       "  <thead>\n",
       "    <tr style=\"text-align: right;\">\n",
       "      <th></th>\n",
       "      <th>id</th>\n",
       "      <th>acc</th>\n",
       "      <th>sequence</th>\n",
       "      <th>length</th>\n",
       "      <th>disorder_content</th>\n",
       "      <th>reference</th>\n",
       "      <th>contain_idr</th>\n",
       "    </tr>\n",
       "  </thead>\n",
       "  <tbody>\n",
       "    <tr>\n",
       "      <th>296</th>\n",
       "      <td>DP00464</td>\n",
       "      <td>Q13485</td>\n",
       "      <td>MDNMSITNTPTSNDACLSIVHSLMCHRQGGESETFAKRAIESLVKK...</td>\n",
       "      <td>552</td>\n",
       "      <td>0.065217</td>\n",
       "      <td>0000000000000000000000000000000000000000000000...</td>\n",
       "      <td>0</td>\n",
       "    </tr>\n",
       "  </tbody>\n",
       "</table>\n",
       "</div>"
      ],
      "text/plain": [
       "          id     acc                                           sequence  \\\n",
       "296  DP00464  Q13485  MDNMSITNTPTSNDACLSIVHSLMCHRQGGESETFAKRAIESLVKK...   \n",
       "\n",
       "     length  disorder_content  \\\n",
       "296     552          0.065217   \n",
       "\n",
       "                                             reference  contain_idr  \n",
       "296  0000000000000000000000000000000000000000000000...            0  "
      ]
     },
     "execution_count": 61,
     "metadata": {},
     "output_type": "execute_result"
    }
   ],
   "source": [
    "df_disprot_disordered[df_disprot_disordered['contain_idr']==0]"
   ]
  },
  {
   "cell_type": "code",
   "execution_count": 62,
   "id": "40009241-117d-408a-86e7-274ce4a3168e",
   "metadata": {},
   "outputs": [
    {
     "data": {
      "text/html": [
       "<div>\n",
       "<style scoped>\n",
       "    .dataframe tbody tr th:only-of-type {\n",
       "        vertical-align: middle;\n",
       "    }\n",
       "\n",
       "    .dataframe tbody tr th {\n",
       "        vertical-align: top;\n",
       "    }\n",
       "\n",
       "    .dataframe thead th {\n",
       "        text-align: right;\n",
       "    }\n",
       "</style>\n",
       "<table border=\"1\" class=\"dataframe\">\n",
       "  <thead>\n",
       "    <tr style=\"text-align: right;\">\n",
       "      <th></th>\n",
       "      <th>id</th>\n",
       "      <th>acc</th>\n",
       "      <th>sequence</th>\n",
       "      <th>length</th>\n",
       "      <th>disorder_content</th>\n",
       "      <th>reference</th>\n",
       "      <th>contain_idr</th>\n",
       "    </tr>\n",
       "  </thead>\n",
       "  <tbody>\n",
       "    <tr>\n",
       "      <th>0</th>\n",
       "      <td>DP00005</td>\n",
       "      <td>P03045</td>\n",
       "      <td>MDAQTRRRERRAEKQAQWKAANPLLVGVSAKPVNRPILSLNRKPKS...</td>\n",
       "      <td>107</td>\n",
       "      <td>1</td>\n",
       "      <td>1111111111111111111111111111111111111111111111...</td>\n",
       "      <td>1</td>\n",
       "    </tr>\n",
       "    <tr>\n",
       "      <th>1</th>\n",
       "      <td>DP00008</td>\n",
       "      <td>Q64693</td>\n",
       "      <td>MLWQKSTAPEQAPAPPRPYQGVRVKEPVKELLRRKRGHTSVGAAGP...</td>\n",
       "      <td>256</td>\n",
       "      <td>1</td>\n",
       "      <td>1111111111111111111111111111111111111111111111...</td>\n",
       "      <td>1</td>\n",
       "    </tr>\n",
       "    <tr>\n",
       "      <th>2</th>\n",
       "      <td>DP00015</td>\n",
       "      <td>P61926</td>\n",
       "      <td>MTDVETTYADFIASGRTGRRNAIHDILVSSASGNSNELALKLAGLD...</td>\n",
       "      <td>76</td>\n",
       "      <td>1</td>\n",
       "      <td>1111111111111111111111111111111111111111111111...</td>\n",
       "      <td>1</td>\n",
       "    </tr>\n",
       "    <tr>\n",
       "      <th>3</th>\n",
       "      <td>DP00016</td>\n",
       "      <td>P38936</td>\n",
       "      <td>MSEPAGDVRQNPCGSKACRRLFGPVDSEQLSRDCDALMAGCIQEAR...</td>\n",
       "      <td>164</td>\n",
       "      <td>1</td>\n",
       "      <td>1111111111111111111111111111111111111111111111...</td>\n",
       "      <td>1</td>\n",
       "    </tr>\n",
       "    <tr>\n",
       "      <th>4</th>\n",
       "      <td>DP00017</td>\n",
       "      <td>P49918</td>\n",
       "      <td>MSDASLRSTSTMERLVARGTFPVLVRTSACRSLFGPVDHEELSREL...</td>\n",
       "      <td>316</td>\n",
       "      <td>1</td>\n",
       "      <td>1111111111111111111111111111111111111111111111...</td>\n",
       "      <td>1</td>\n",
       "    </tr>\n",
       "    <tr>\n",
       "      <th>...</th>\n",
       "      <td>...</td>\n",
       "      <td>...</td>\n",
       "      <td>...</td>\n",
       "      <td>...</td>\n",
       "      <td>...</td>\n",
       "      <td>...</td>\n",
       "      <td>...</td>\n",
       "    </tr>\n",
       "    <tr>\n",
       "      <th>179</th>\n",
       "      <td>DP03563</td>\n",
       "      <td>P04611</td>\n",
       "      <td>MDPVDPNLEPWNHPGSQPRTPCNKCHCKKCCYHCPVCFLNKGLGIS...</td>\n",
       "      <td>99</td>\n",
       "      <td>1</td>\n",
       "      <td>1111111111111111111111111111111111111111111111...</td>\n",
       "      <td>1</td>\n",
       "    </tr>\n",
       "    <tr>\n",
       "      <th>180</th>\n",
       "      <td>DP03565</td>\n",
       "      <td>P20893</td>\n",
       "      <td>MEPVDPRLEPWKHPGSQPKTASNNCYCKRCCLHCQVCFTKKGLGIS...</td>\n",
       "      <td>101</td>\n",
       "      <td>1</td>\n",
       "      <td>1111111111111111111111111111111111111111111111...</td>\n",
       "      <td>1</td>\n",
       "    </tr>\n",
       "    <tr>\n",
       "      <th>181</th>\n",
       "      <td>DP03852</td>\n",
       "      <td>P0ABK7</td>\n",
       "      <td>MKNKLLFMMLTILGAPGIAAAAGYDLANSEYNFAVNELSKSSFNQA...</td>\n",
       "      <td>151</td>\n",
       "      <td>1</td>\n",
       "      <td>1111111111111111111111111111111111111111111111...</td>\n",
       "      <td>1</td>\n",
       "    </tr>\n",
       "    <tr>\n",
       "      <th>182</th>\n",
       "      <td>DP03853</td>\n",
       "      <td>P28307</td>\n",
       "      <td>MKLLKVAAIAAIVFSGSALAGVVPQYGGGGNHGGGGNNSGPNSELN...</td>\n",
       "      <td>151</td>\n",
       "      <td>1</td>\n",
       "      <td>1111111111111111111111111111111111111111111111...</td>\n",
       "      <td>1</td>\n",
       "    </tr>\n",
       "    <tr>\n",
       "      <th>183</th>\n",
       "      <td>DP03871</td>\n",
       "      <td>O77299</td>\n",
       "      <td>MGSSCTKDSAKESQKRADNIDTTTRSDEKDGIHVQESAGPVQENFG...</td>\n",
       "      <td>80</td>\n",
       "      <td>1</td>\n",
       "      <td>1111111111111111111111111111111111111111111111...</td>\n",
       "      <td>1</td>\n",
       "    </tr>\n",
       "  </tbody>\n",
       "</table>\n",
       "<p>184 rows × 7 columns</p>\n",
       "</div>"
      ],
      "text/plain": [
       "          id     acc                                           sequence  \\\n",
       "0    DP00005  P03045  MDAQTRRRERRAEKQAQWKAANPLLVGVSAKPVNRPILSLNRKPKS...   \n",
       "1    DP00008  Q64693  MLWQKSTAPEQAPAPPRPYQGVRVKEPVKELLRRKRGHTSVGAAGP...   \n",
       "2    DP00015  P61926  MTDVETTYADFIASGRTGRRNAIHDILVSSASGNSNELALKLAGLD...   \n",
       "3    DP00016  P38936  MSEPAGDVRQNPCGSKACRRLFGPVDSEQLSRDCDALMAGCIQEAR...   \n",
       "4    DP00017  P49918  MSDASLRSTSTMERLVARGTFPVLVRTSACRSLFGPVDHEELSREL...   \n",
       "..       ...     ...                                                ...   \n",
       "179  DP03563  P04611  MDPVDPNLEPWNHPGSQPRTPCNKCHCKKCCYHCPVCFLNKGLGIS...   \n",
       "180  DP03565  P20893  MEPVDPRLEPWKHPGSQPKTASNNCYCKRCCLHCQVCFTKKGLGIS...   \n",
       "181  DP03852  P0ABK7  MKNKLLFMMLTILGAPGIAAAAGYDLANSEYNFAVNELSKSSFNQA...   \n",
       "182  DP03853  P28307  MKLLKVAAIAAIVFSGSALAGVVPQYGGGGNHGGGGNNSGPNSELN...   \n",
       "183  DP03871  O77299  MGSSCTKDSAKESQKRADNIDTTTRSDEKDGIHVQESAGPVQENFG...   \n",
       "\n",
       "     length  disorder_content  \\\n",
       "0       107                 1   \n",
       "1       256                 1   \n",
       "2        76                 1   \n",
       "3       164                 1   \n",
       "4       316                 1   \n",
       "..      ...               ...   \n",
       "179      99                 1   \n",
       "180     101                 1   \n",
       "181     151                 1   \n",
       "182     151                 1   \n",
       "183      80                 1   \n",
       "\n",
       "                                             reference  contain_idr  \n",
       "0    1111111111111111111111111111111111111111111111...            1  \n",
       "1    1111111111111111111111111111111111111111111111...            1  \n",
       "2    1111111111111111111111111111111111111111111111...            1  \n",
       "3    1111111111111111111111111111111111111111111111...            1  \n",
       "4    1111111111111111111111111111111111111111111111...            1  \n",
       "..                                                 ...          ...  \n",
       "179  1111111111111111111111111111111111111111111111...            1  \n",
       "180  1111111111111111111111111111111111111111111111...            1  \n",
       "181  1111111111111111111111111111111111111111111111...            1  \n",
       "182  1111111111111111111111111111111111111111111111...            1  \n",
       "183  1111111111111111111111111111111111111111111111...            1  \n",
       "\n",
       "[184 rows x 7 columns]"
      ]
     },
     "execution_count": 62,
     "metadata": {},
     "output_type": "execute_result"
    }
   ],
   "source": [
    "df_disprot_fully_disordered"
   ]
  },
  {
   "cell_type": "code",
   "execution_count": 63,
   "id": "2ee42c14-e9a5-4374-9053-df9b29a3d1c0",
   "metadata": {},
   "outputs": [],
   "source": [
    "def plot_lengthDist(df: pd.DataFrame, column_name: str, title: str, set_color=False):\n",
    "    sns.set(rc={'figure.figsize':(10,6)})\n",
    "    if set_color:\n",
    "        colors = sns.color_palette()\n",
    "        ax = sns.histplot(data=df, x=column_name, color=colors[1])\n",
    "    ax = sns.histplot(data=df, x=column_name)\n",
    "    ax.set_xlabel('Length', fontsize=15)\n",
    "    ax.set_ylabel('Count', fontsize=15)\n",
    "    ax.set_title(title, fontsize=20)\n",
    "    ax.get_figure().savefig(title+'.jpg')\n",
    "    return ax"
   ]
  },
  {
   "cell_type": "code",
   "execution_count": 64,
   "id": "1913e139-c5a0-4722-a3c0-0797474c06fd",
   "metadata": {},
   "outputs": [
    {
     "name": "stderr",
     "output_type": "stream",
     "text": [
      "/home/dimeng/miniconda3/envs/py11/lib/python3.11/site-packages/seaborn/_oldcore.py:1498: FutureWarning: is_categorical_dtype is deprecated and will be removed in a future version. Use isinstance(dtype, CategoricalDtype) instead\n",
      "  if pd.api.types.is_categorical_dtype(vector):\n",
      "/home/dimeng/miniconda3/envs/py11/lib/python3.11/site-packages/seaborn/_oldcore.py:1119: FutureWarning: use_inf_as_na option is deprecated and will be removed in a future version. Convert inf values to NaN before operating instead.\n",
      "  with pd.option_context('mode.use_inf_as_na', True):\n",
      "/home/dimeng/miniconda3/envs/py11/lib/python3.11/site-packages/seaborn/_oldcore.py:1498: FutureWarning: is_categorical_dtype is deprecated and will be removed in a future version. Use isinstance(dtype, CategoricalDtype) instead\n",
      "  if pd.api.types.is_categorical_dtype(vector):\n",
      "/home/dimeng/miniconda3/envs/py11/lib/python3.11/site-packages/seaborn/_oldcore.py:1119: FutureWarning: use_inf_as_na option is deprecated and will be removed in a future version. Convert inf values to NaN before operating instead.\n",
      "  with pd.option_context('mode.use_inf_as_na', True):\n"
     ]
    },
    {
     "data": {
      "text/plain": [
       "<Axes: title={'center': 'Disprot: Fully disordered sequence length distribution'}, xlabel='Length', ylabel='Count'>"
      ]
     },
     "execution_count": 64,
     "metadata": {},
     "output_type": "execute_result"
    },
    {
     "data": {
      "image/png": "[encoded data removed]",
      "text/plain": [
       "<Figure size 1000x600 with 1 Axes>"
      ]
     },
     "metadata": {},
     "output_type": "display_data"
    }
   ],
   "source": [
    "title = 'Disprot: Fully disordered sequence length distribution'\n",
    "column_name = 'length'\n",
    "plot_lengthDist(df_disprot_fully_disordered, column_name, title, set_color=True)"
   ]
  },
  {
   "cell_type": "code",
   "execution_count": 11,
   "id": "54190268-8c62-47ff-a0eb-a3b7662c0304",
   "metadata": {},
   "outputs": [
    {
     "name": "stderr",
     "output_type": "stream",
     "text": [
      "/home/dimeng/miniconda3/envs/py11/lib/python3.11/site-packages/seaborn/_oldcore.py:1498: FutureWarning: is_categorical_dtype is deprecated and will be removed in a future version. Use isinstance(dtype, CategoricalDtype) instead\n",
      "  if pd.api.types.is_categorical_dtype(vector):\n",
      "/home/dimeng/miniconda3/envs/py11/lib/python3.11/site-packages/seaborn/_oldcore.py:1119: FutureWarning: use_inf_as_na option is deprecated and will be removed in a future version. Convert inf values to NaN before operating instead.\n",
      "  with pd.option_context('mode.use_inf_as_na', True):\n",
      "/home/dimeng/miniconda3/envs/py11/lib/python3.11/site-packages/seaborn/_oldcore.py:1498: FutureWarning: is_categorical_dtype is deprecated and will be removed in a future version. Use isinstance(dtype, CategoricalDtype) instead\n",
      "  if pd.api.types.is_categorical_dtype(vector):\n",
      "/home/dimeng/miniconda3/envs/py11/lib/python3.11/site-packages/seaborn/_oldcore.py:1119: FutureWarning: use_inf_as_na option is deprecated and will be removed in a future version. Convert inf values to NaN before operating instead.\n",
      "  with pd.option_context('mode.use_inf_as_na', True):\n"
     ]
    },
    {
     "data": {
      "text/plain": [
       "<Axes: title={'center': 'Disprot: Sequence length distribution'}, xlabel='Length', ylabel='Count'>"
      ]
     },
     "execution_count": 11,
     "metadata": {},
     "output_type": "execute_result"
    },
    {
     "data": {
      "image/png": "[encoded data removed]",
      "text/plain": [
       "<Figure size 1000x600 with 1 Axes>"
      ]
     },
     "metadata": {},
     "output_type": "display_data"
    }
   ],
   "source": [
    "title = 'Disprot: Sequence length distribution'\n",
    "column_name = 'length'\n",
    "plot_lengthDist(df_disprot_disordered, column_name, title, set_color=True)"
   ]
  },
  {
   "cell_type": "code",
   "execution_count": 25,
   "id": "3c0ff8fb-7e4c-40e5-bf88-2684c06623a9",
   "metadata": {},
   "outputs": [],
   "source": [
    "df_disprot_fully_disordered_plot = df_disprot_fully_disordered[['length', 'reference']]\n",
    "df_disprot_fully_disordered_plot = df_disprot_fully_disordered_plot.rename({'length': 'Sequence Length'}, axis=1)\n",
    "df_disprot_fully_disordered_plot.loc[:, 'Sequence Type'] = 'Fully Disordered'\n",
    "\n",
    "df_disprot_disordered_plot = df_disprot_disordered[['length', 'reference']]\n",
    "df_disprot_disordered_plot = df_disprot_disordered_plot.rename({'length': 'Sequence Length'}, axis=1)\n",
    "df_disprot_disordered_plot.loc[:, 'Sequence Type'] = 'ALL'\n",
    "\n",
    "df_plot = pd.concat([df_disprot_fully_disordered_plot, df_disprot_disordered_plot], ignore_index=True)"
   ]
  },
  {
   "cell_type": "code",
   "execution_count": 26,
   "id": "43700cde-6c25-4a8c-bad4-159faabcb720",
   "metadata": {},
   "outputs": [
    {
     "name": "stderr",
     "output_type": "stream",
     "text": [
      "/home/dimeng/miniconda3/envs/py11/lib/python3.11/site-packages/seaborn/_oldcore.py:1498: FutureWarning: is_categorical_dtype is deprecated and will be removed in a future version. Use isinstance(dtype, CategoricalDtype) instead\n",
      "  if pd.api.types.is_categorical_dtype(vector):\n",
      "/home/dimeng/miniconda3/envs/py11/lib/python3.11/site-packages/seaborn/_oldcore.py:1498: FutureWarning: is_categorical_dtype is deprecated and will be removed in a future version. Use isinstance(dtype, CategoricalDtype) instead\n",
      "  if pd.api.types.is_categorical_dtype(vector):\n",
      "/home/dimeng/miniconda3/envs/py11/lib/python3.11/site-packages/seaborn/_oldcore.py:1498: FutureWarning: is_categorical_dtype is deprecated and will be removed in a future version. Use isinstance(dtype, CategoricalDtype) instead\n",
      "  if pd.api.types.is_categorical_dtype(vector):\n",
      "/tmp/ipykernel_122570/2233113253.py:5: FutureWarning: Series.__getitem__ treating keys as positions is deprecated. In a future version, integer keys will always be treated as labels (consistent with DataFrame behavior). To access a value by position, use `ser.iloc[pos]`\n",
      "  medians_info = [f'median: {medians[0]}', f'median: {medians[1]}']\n"
     ]
    },
    {
     "data": {
      "image/png": "[encoded data removed]",
      "text/plain": [
       "<Figure size 1000x600 with 1 Axes>"
      ]
     },
     "metadata": {},
     "output_type": "display_data"
    }
   ],
   "source": [
    "fig = sns.boxplot(x=df_plot[\"Sequence Length\"], y=df_plot[\"Sequence Type\"])\n",
    "\n",
    "medians = df_plot.groupby(['Sequence Type'])['Sequence Length'].median()\n",
    "vertical_offset = df_plot['Sequence Length'].median() # offset from median for display\n",
    "medians_info = [f'median: {medians[0]}', f'median: {medians[1]}']\n",
    "for ytick in fig.get_yticks():\n",
    "    fig.text(ytick + vertical_offset+100, ytick-0.3,medians_info[ytick], \n",
    "            horizontalalignment='left',size='small',color='r',weight='semibold')\n",
    "\n",
    "title = 'Disprot: sequence length distribution'\n",
    "fig.set_title(title)\n",
    "fig.get_figure().savefig(f'{title}.jpg')"
   ]
  },
  {
   "cell_type": "code",
   "execution_count": 31,
   "id": "4452b9c2-7a3d-4ee9-a061-6e66f11698cd",
   "metadata": {},
   "outputs": [
    {
     "data": {
      "text/plain": [
       "0.16746502323954873"
      ]
     },
     "execution_count": 31,
     "metadata": {},
     "output_type": "execute_result"
    }
   ],
   "source": [
    "num_idr = 0\n",
    "num_aa = 0\n",
    "for seq in list_disprot_disordered:\n",
    "    num_idr += sum(seq['reference'])\n",
    "    num_aa += len(seq['reference'])\n",
    "num_idr/num_aa"
   ]
  },
  {
   "cell_type": "code",
   "execution_count": 40,
   "id": "31ce6ba6-68b6-4d9d-aa5f-eb333e576590",
   "metadata": {},
   "outputs": [
    {
     "data": {
      "image/png": "[encoded data removed]",
      "text/plain": [
       "<Figure size 1000x600 with 1 Axes>"
      ]
     },
     "metadata": {},
     "output_type": "display_data"
    }
   ],
   "source": [
    "#define data\n",
    "data = [num_idr, num_aa-num_idr]\n",
    "labels = ['Disorder', 'Other']\n",
    "\n",
    "#define Seaborn color palette to use\n",
    "colors = sns.color_palette('pastel')[0:2]\n",
    "\n",
    "#create pie chart\n",
    "plt.pie(data, labels = labels, colors = colors, autopct='%.0f%%')\n",
    "title = 'Disprot: Proportion of Disorder (residue level)'\n",
    "plt.title(title)\n",
    "plt.savefig(title)\n",
    "plt.show()"
   ]
  },
  {
   "cell_type": "markdown",
   "id": "591d09fc-8542-4e97-a9a2-cceabf600f1c",
   "metadata": {
    "jp-MarkdownHeadingCollapsed": true
   },
   "source": [
    "# 3. Merge with IDR30 JSON file\n",
    ">Note that, this version of training dataset exclude the sequences from CAID\n",
    ">\n",
    ">187 fully disordered sequences\n",
    ">\n",
    ">181 left after excluding CAID sequences\n",
    "\n",
    "### Two dataset\n",
    ">save all dataset into one JSON file\n",
    ">Separate it into Train & Test sets. Add 181 fully disordered sequences to train set only. "
   ]
  },
  {
   "cell_type": "code",
   "execution_count": 4,
   "id": "dbc8b3a7-5be9-461f-93db-44e96be3d524",
   "metadata": {},
   "outputs": [],
   "source": [
    "list_idr = read_json2list(path_IDRdataset)\n",
    "df_idr = pd.DataFrame(list_idr)\n",
    "list_caid = read_json2list(path_caid_dataset_json)\n",
    "df_caid = pd.DataFrame(list_caid)\n",
    "list_caidID = list(df_caid['id'])\n",
    "\n",
    "df_disprot = df_disprot_fully_disordered[~(df_disprot_fully_disordered['id'].isin(list_caidID))]"
   ]
  },
  {
   "cell_type": "code",
   "execution_count": 9,
   "id": "03699ee1-f4b1-453a-8493-d4643ab11f41",
   "metadata": {},
   "outputs": [],
   "source": [
    "list_idr_train = read_json2list(path_train)\n",
    "df_idr_train = pd.DataFrame(list_idr_train)\n",
    "\n",
    "\n",
    "list_idr_test = read_json2list(path_test)\n",
    "df_idr_test = pd.DataFrame(list_idr_test)"
   ]
  },
  {
   "cell_type": "code",
   "execution_count": 10,
   "id": "62da49c9-8467-4f86-bcf6-304316e9beb7",
   "metadata": {},
   "outputs": [
    {
     "data": {
      "text/html": [
       "<div>\n",
       "<style scoped>\n",
       "    .dataframe tbody tr th:only-of-type {\n",
       "        vertical-align: middle;\n",
       "    }\n",
       "\n",
       "    .dataframe tbody tr th {\n",
       "        vertical-align: top;\n",
       "    }\n",
       "\n",
       "    .dataframe thead th {\n",
       "        text-align: right;\n",
       "    }\n",
       "</style>\n",
       "<table border=\"1\" class=\"dataframe\">\n",
       "  <thead>\n",
       "    <tr style=\"text-align: right;\">\n",
       "      <th></th>\n",
       "      <th>id</th>\n",
       "      <th>acc</th>\n",
       "      <th>sequence</th>\n",
       "      <th>length</th>\n",
       "      <th>disorder_content</th>\n",
       "      <th>reference</th>\n",
       "      <th>contain_idr</th>\n",
       "    </tr>\n",
       "  </thead>\n",
       "  <tbody>\n",
       "    <tr>\n",
       "      <th>0</th>\n",
       "      <td>DP00005</td>\n",
       "      <td>P03045</td>\n",
       "      <td>MDAQTRRRERRAEKQAQWKAANPLLVGVSAKPVNRPILSLNRKPKS...</td>\n",
       "      <td>107</td>\n",
       "      <td>1</td>\n",
       "      <td>1111111111111111111111111111111111111111111111...</td>\n",
       "      <td>1</td>\n",
       "    </tr>\n",
       "    <tr>\n",
       "      <th>1</th>\n",
       "      <td>DP00008</td>\n",
       "      <td>Q64693</td>\n",
       "      <td>MLWQKSTAPEQAPAPPRPYQGVRVKEPVKELLRRKRGHTSVGAAGP...</td>\n",
       "      <td>256</td>\n",
       "      <td>1</td>\n",
       "      <td>1111111111111111111111111111111111111111111111...</td>\n",
       "      <td>1</td>\n",
       "    </tr>\n",
       "  </tbody>\n",
       "</table>\n",
       "</div>"
      ],
      "text/plain": [
       "        id     acc                                           sequence  length  \\\n",
       "0  DP00005  P03045  MDAQTRRRERRAEKQAQWKAANPLLVGVSAKPVNRPILSLNRKPKS...     107   \n",
       "1  DP00008  Q64693  MLWQKSTAPEQAPAPPRPYQGVRVKEPVKELLRRKRGHTSVGAAGP...     256   \n",
       "\n",
       "   disorder_content                                          reference  \\\n",
       "0                 1  1111111111111111111111111111111111111111111111...   \n",
       "1                 1  1111111111111111111111111111111111111111111111...   \n",
       "\n",
       "   contain_idr  \n",
       "0            1  \n",
       "1            1  "
      ]
     },
     "execution_count": 10,
     "metadata": {},
     "output_type": "execute_result"
    }
   ],
   "source": [
    "df_disprot[:2]"
   ]
  },
  {
   "cell_type": "code",
   "execution_count": 11,
   "id": "7ebd7637-d1eb-4523-aaa0-284ebbd32f05",
   "metadata": {},
   "outputs": [
    {
     "data": {
      "text/html": [
       "<div>\n",
       "<style scoped>\n",
       "    .dataframe tbody tr th:only-of-type {\n",
       "        vertical-align: middle;\n",
       "    }\n",
       "\n",
       "    .dataframe tbody tr th {\n",
       "        vertical-align: top;\n",
       "    }\n",
       "\n",
       "    .dataframe thead th {\n",
       "        text-align: right;\n",
       "    }\n",
       "</style>\n",
       "<table border=\"1\" class=\"dataframe\">\n",
       "  <thead>\n",
       "    <tr style=\"text-align: right;\">\n",
       "      <th></th>\n",
       "      <th>id</th>\n",
       "      <th>acc</th>\n",
       "      <th>sequence</th>\n",
       "      <th>length</th>\n",
       "      <th>disorder_content</th>\n",
       "      <th>reference</th>\n",
       "      <th>contain_idr</th>\n",
       "    </tr>\n",
       "  </thead>\n",
       "  <tbody>\n",
       "    <tr>\n",
       "      <th>0</th>\n",
       "      <td>DP00005</td>\n",
       "      <td>P03045</td>\n",
       "      <td>MDAQTRRRERRAEKQAQWKAANPLLVGVSAKPVNRPILSLNRKPKS...</td>\n",
       "      <td>107</td>\n",
       "      <td>1</td>\n",
       "      <td>1111111111111111111111111111111111111111111111...</td>\n",
       "      <td>1</td>\n",
       "    </tr>\n",
       "    <tr>\n",
       "      <th>1</th>\n",
       "      <td>DP00008</td>\n",
       "      <td>Q64693</td>\n",
       "      <td>MLWQKSTAPEQAPAPPRPYQGVRVKEPVKELLRRKRGHTSVGAAGP...</td>\n",
       "      <td>256</td>\n",
       "      <td>1</td>\n",
       "      <td>1111111111111111111111111111111111111111111111...</td>\n",
       "      <td>1</td>\n",
       "    </tr>\n",
       "  </tbody>\n",
       "</table>\n",
       "</div>"
      ],
      "text/plain": [
       "        id     acc                                           sequence  length  \\\n",
       "0  DP00005  P03045  MDAQTRRRERRAEKQAQWKAANPLLVGVSAKPVNRPILSLNRKPKS...     107   \n",
       "1  DP00008  Q64693  MLWQKSTAPEQAPAPPRPYQGVRVKEPVKELLRRKRGHTSVGAAGP...     256   \n",
       "\n",
       "   disorder_content                                          reference  \\\n",
       "0                 1  1111111111111111111111111111111111111111111111...   \n",
       "1                 1  1111111111111111111111111111111111111111111111...   \n",
       "\n",
       "   contain_idr  \n",
       "0            1  \n",
       "1            1  "
      ]
     },
     "execution_count": 11,
     "metadata": {},
     "output_type": "execute_result"
    }
   ],
   "source": [
    "df_disprot_fully_disordered[:2]"
   ]
  },
  {
   "cell_type": "markdown",
   "id": "44dd31f3-42ec-455b-a4d9-268ee6c839f4",
   "metadata": {},
   "source": [
    "### Save all dataset"
   ]
  },
  {
   "cell_type": "code",
   "execution_count": 16,
   "id": "dba4e562-aa51-43d0-b0f5-2ed57e02240f",
   "metadata": {},
   "outputs": [],
   "source": [
    "df_IDR_fullyDisordered = pd.concat([df_idr, df_disprot.loc[:, ['id', 'sequence', 'reference']]], ignore_index=True)\n",
    "list_IDR_fullyDisordered = json.loads(df_IDR_fullyDisordered.to_json(orient=\"records\"))\n",
    "\n",
    "dump_list2json(list_IDR_fullyDisordered, path_IDR_fullyDisordered_dataset)"
   ]
  },
  {
   "cell_type": "markdown",
   "id": "d9a37003-7ee3-413d-a431-a999170dcf2f",
   "metadata": {
    "jp-MarkdownHeadingCollapsed": true
   },
   "source": [
    "### save Train & Test"
   ]
  },
  {
   "cell_type": "code",
   "execution_count": 14,
   "id": "0023c838-b689-42f1-badd-2b6a71de945d",
   "metadata": {},
   "outputs": [],
   "source": [
    "df_IDR_fullyDisordered_train = pd.concat([df_idr_train.loc[:, ['id', 'sequence', 'reference']], df_disprot.loc[:, ['id', 'sequence', 'reference']]], ignore_index=True)\n",
    "list_IDR_fullyDisordered_train = json.loads(df_IDR_fullyDisordered_train.to_json(orient=\"records\"))\n",
    "\n",
    "list_IDR_test = json.loads(df_idr_test.loc[:, ['id', 'sequence', 'reference']].to_json(orient=\"records\"))\n",
    "dump_list2json(list_IDR_fullyDisordered_train, path_train_withFullyDisorder)\n",
    "dump_list2json(list_IDR_test, path_test_withFullyDisorder)"
   ]
  },
  {
   "cell_type": "code",
   "execution_count": 15,
   "id": "72df2e7c-de03-47f2-8607-f2f79a49637b",
   "metadata": {},
   "outputs": [
    {
     "data": {
      "text/plain": [
       "1792"
      ]
     },
     "execution_count": 15,
     "metadata": {},
     "output_type": "execute_result"
    }
   ],
   "source": [
    "768+1024"
   ]
  },
  {
   "cell_type": "markdown",
   "id": "c23cf528-031f-4e97-9c2d-c29fc44a6cee",
   "metadata": {},
   "source": [
    "# 4. Merge with IDR100 JSON file\n",
    ">Note that, this version of training dataset exclude the sequences from CAID\n",
    ">\n",
    ">187 fully disordered sequences\n",
    ">\n",
    ">181 left after excluding CAID sequences\n",
    "\n",
    "### Two dataset\n",
    ">save all dataset into one JSON file\n",
    ">Separate it into Train & Test sets. Add 181 fully disordered sequences to train set only. "
   ]
  },
  {
   "cell_type": "code",
   "execution_count": 2,
   "id": "c22e35f1-93c6-4b1f-9665-a78caaf1faca",
   "metadata": {},
   "outputs": [],
   "source": [
    "list_idr = read_json2list(path_IDRdataset_100)\n",
    "df_idr = pd.DataFrame(list_idr)\n",
    "list_caid = read_json2list(path_caid_dataset_json)\n",
    "df_caid = pd.DataFrame(list_caid)\n",
    "list_caidID = list(df_caid['id'])"
   ]
  },
  {
   "cell_type": "code",
   "execution_count": 6,
   "id": "986e63ae-3cea-48f9-b7b8-55fe2e7b905f",
   "metadata": {},
   "outputs": [],
   "source": [
    "df_disprot_fully_disordered = pd.DataFrame(read_json2list(path_disprot_dataset_fullDisordered))\n",
    "df_disprot = df_disprot_fully_disordered[~(df_disprot_fully_disordered['id'].isin(list_caidID))]"
   ]
  },
  {
   "cell_type": "code",
   "execution_count": 11,
   "id": "199a5ada-80c3-4421-8bae-211512136781",
   "metadata": {},
   "outputs": [],
   "source": [
    "df_disprot.loc[:, 'fold'] = 0\n",
    "df_disprot.loc[:, 'clstr_id'] = 'disprot'"
   ]
  },
  {
   "cell_type": "code",
   "execution_count": 13,
   "id": "b9cb7f1f-3015-493c-9580-f8e81302811e",
   "metadata": {},
   "outputs": [],
   "source": [
    "df_IDR_fullyDisordered = pd.concat([df_idr, df_disprot.loc[:, ['id', 'sequence', 'reference', 'fold', 'clstr_id']]], ignore_index=True)\n",
    "list_IDR_fullyDisordered = json.loads(df_IDR_fullyDisordered.to_json(orient=\"records\"))\n",
    "\n",
    "dump_list2json(list_IDR_fullyDisordered, path_IDR_fullyDisordered_dataset_100)"
   ]
  },
  {
   "cell_type": "code",
   "execution_count": 14,
   "id": "36c04447-8564-4bf6-9535-4bc702167ffd",
   "metadata": {},
   "outputs": [
    {
     "data": {
      "text/html": [
       "<div>\n",
       "<style scoped>\n",
       "    .dataframe tbody tr th:only-of-type {\n",
       "        vertical-align: middle;\n",
       "    }\n",
       "\n",
       "    .dataframe tbody tr th {\n",
       "        vertical-align: top;\n",
       "    }\n",
       "\n",
       "    .dataframe thead th {\n",
       "        text-align: right;\n",
       "    }\n",
       "</style>\n",
       "<table border=\"1\" class=\"dataframe\">\n",
       "  <thead>\n",
       "    <tr style=\"text-align: right;\">\n",
       "      <th></th>\n",
       "      <th>id</th>\n",
       "      <th>sequence</th>\n",
       "      <th>reference</th>\n",
       "      <th>fold</th>\n",
       "      <th>clstr_id</th>\n",
       "    </tr>\n",
       "  </thead>\n",
       "  <tbody>\n",
       "    <tr>\n",
       "      <th>0</th>\n",
       "      <td>120L_1</td>\n",
       "      <td>MNIFEMLRIDEGLRLKIYKDTEGYYTIGIGHLLTKSPSLNSAKSEL...</td>\n",
       "      <td>0000000000000000000000000000000000000000000000...</td>\n",
       "      <td>4</td>\n",
       "      <td>7DDZ_1</td>\n",
       "    </tr>\n",
       "    <tr>\n",
       "      <th>1</th>\n",
       "      <td>13PK_1</td>\n",
       "      <td>EKKSINECDLKGKKVLIRVDFNVPVKNGKITNDYRIRSALPTLKKV...</td>\n",
       "      <td>0000000000000000000000000000000000000000000000...</td>\n",
       "      <td>1</td>\n",
       "      <td>1LTK_1</td>\n",
       "    </tr>\n",
       "    <tr>\n",
       "      <th>2</th>\n",
       "      <td>155L_1</td>\n",
       "      <td>MNIFEMLRIDEGLRLKIYKDTEGYYTIGIGHLLTKSPSLNAAKSEL...</td>\n",
       "      <td>0000000000000000000000000000000000000000000000...</td>\n",
       "      <td>4</td>\n",
       "      <td>7DDZ_1</td>\n",
       "    </tr>\n",
       "    <tr>\n",
       "      <th>3</th>\n",
       "      <td>15C8_1</td>\n",
       "      <td>DIVLTQSPAIMSASLGERVTMTCTASSSVSSSNLHWYQQKPGSSPK...</td>\n",
       "      <td>0000000000000000000000000000000000000000000000...</td>\n",
       "      <td>3</td>\n",
       "      <td>4YDV_2</td>\n",
       "    </tr>\n",
       "    <tr>\n",
       "      <th>4</th>\n",
       "      <td>15C8_2</td>\n",
       "      <td>EVQLQQSGAELVKPGASVKLSCTASGFNIKDTYMHWVKQKPEQGLE...</td>\n",
       "      <td>0000000000000000000000000000000000000000000000...</td>\n",
       "      <td>4</td>\n",
       "      <td>1IGT_2</td>\n",
       "    </tr>\n",
       "    <tr>\n",
       "      <th>...</th>\n",
       "      <td>...</td>\n",
       "      <td>...</td>\n",
       "      <td>...</td>\n",
       "      <td>...</td>\n",
       "      <td>...</td>\n",
       "    </tr>\n",
       "    <tr>\n",
       "      <th>79144</th>\n",
       "      <td>DP03563</td>\n",
       "      <td>MDPVDPNLEPWNHPGSQPRTPCNKCHCKKCCYHCPVCFLNKGLGIS...</td>\n",
       "      <td>1111111111111111111111111111111111111111111111...</td>\n",
       "      <td>0</td>\n",
       "      <td>disprot</td>\n",
       "    </tr>\n",
       "    <tr>\n",
       "      <th>79145</th>\n",
       "      <td>DP03565</td>\n",
       "      <td>MEPVDPRLEPWKHPGSQPKTASNNCYCKRCCLHCQVCFTKKGLGIS...</td>\n",
       "      <td>1111111111111111111111111111111111111111111111...</td>\n",
       "      <td>0</td>\n",
       "      <td>disprot</td>\n",
       "    </tr>\n",
       "    <tr>\n",
       "      <th>79146</th>\n",
       "      <td>DP03852</td>\n",
       "      <td>MKNKLLFMMLTILGAPGIAAAAGYDLANSEYNFAVNELSKSSFNQA...</td>\n",
       "      <td>1111111111111111111111111111111111111111111111...</td>\n",
       "      <td>0</td>\n",
       "      <td>disprot</td>\n",
       "    </tr>\n",
       "    <tr>\n",
       "      <th>79147</th>\n",
       "      <td>DP03853</td>\n",
       "      <td>MKLLKVAAIAAIVFSGSALAGVVPQYGGGGNHGGGGNNSGPNSELN...</td>\n",
       "      <td>1111111111111111111111111111111111111111111111...</td>\n",
       "      <td>0</td>\n",
       "      <td>disprot</td>\n",
       "    </tr>\n",
       "    <tr>\n",
       "      <th>79148</th>\n",
       "      <td>DP03871</td>\n",
       "      <td>MGSSCTKDSAKESQKRADNIDTTTRSDEKDGIHVQESAGPVQENFG...</td>\n",
       "      <td>1111111111111111111111111111111111111111111111...</td>\n",
       "      <td>0</td>\n",
       "      <td>disprot</td>\n",
       "    </tr>\n",
       "  </tbody>\n",
       "</table>\n",
       "<p>79149 rows × 5 columns</p>\n",
       "</div>"
      ],
      "text/plain": [
       "            id                                           sequence  \\\n",
       "0       120L_1  MNIFEMLRIDEGLRLKIYKDTEGYYTIGIGHLLTKSPSLNSAKSEL...   \n",
       "1       13PK_1  EKKSINECDLKGKKVLIRVDFNVPVKNGKITNDYRIRSALPTLKKV...   \n",
       "2       155L_1  MNIFEMLRIDEGLRLKIYKDTEGYYTIGIGHLLTKSPSLNAAKSEL...   \n",
       "3       15C8_1  DIVLTQSPAIMSASLGERVTMTCTASSSVSSSNLHWYQQKPGSSPK...   \n",
       "4       15C8_2  EVQLQQSGAELVKPGASVKLSCTASGFNIKDTYMHWVKQKPEQGLE...   \n",
       "...        ...                                                ...   \n",
       "79144  DP03563  MDPVDPNLEPWNHPGSQPRTPCNKCHCKKCCYHCPVCFLNKGLGIS...   \n",
       "79145  DP03565  MEPVDPRLEPWKHPGSQPKTASNNCYCKRCCLHCQVCFTKKGLGIS...   \n",
       "79146  DP03852  MKNKLLFMMLTILGAPGIAAAAGYDLANSEYNFAVNELSKSSFNQA...   \n",
       "79147  DP03853  MKLLKVAAIAAIVFSGSALAGVVPQYGGGGNHGGGGNNSGPNSELN...   \n",
       "79148  DP03871  MGSSCTKDSAKESQKRADNIDTTTRSDEKDGIHVQESAGPVQENFG...   \n",
       "\n",
       "                                               reference  fold clstr_id  \n",
       "0      0000000000000000000000000000000000000000000000...     4   7DDZ_1  \n",
       "1      0000000000000000000000000000000000000000000000...     1   1LTK_1  \n",
       "2      0000000000000000000000000000000000000000000000...     4   7DDZ_1  \n",
       "3      0000000000000000000000000000000000000000000000...     3   4YDV_2  \n",
       "4      0000000000000000000000000000000000000000000000...     4   1IGT_2  \n",
       "...                                                  ...   ...      ...  \n",
       "79144  1111111111111111111111111111111111111111111111...     0  disprot  \n",
       "79145  1111111111111111111111111111111111111111111111...     0  disprot  \n",
       "79146  1111111111111111111111111111111111111111111111...     0  disprot  \n",
       "79147  1111111111111111111111111111111111111111111111...     0  disprot  \n",
       "79148  1111111111111111111111111111111111111111111111...     0  disprot  \n",
       "\n",
       "[79149 rows x 5 columns]"
      ]
     },
     "execution_count": 14,
     "metadata": {},
     "output_type": "execute_result"
    }
   ],
   "source": [
    "df_IDR_fullyDisordered"
   ]
  },
  {
   "cell_type": "code",
   "execution_count": 18,
   "id": "9e042c65-7854-42ae-a156-53fde37c8cb4",
   "metadata": {},
   "outputs": [
    {
     "data": {
      "text/plain": [
       "23528"
      ]
     },
     "execution_count": 18,
     "metadata": {},
     "output_type": "execute_result"
    }
   ],
   "source": [
    "len(df_IDR_fullyDisordered.loc[:, 'clstr_id'].drop_duplicates())"
   ]
  },
  {
   "cell_type": "code",
   "execution_count": null,
   "id": "052c2340-3f13-4ae6-9f1a-3f2f310ac8b7",
   "metadata": {},
   "outputs": [],
   "source": []
  }
 ],
 "metadata": {
  "kernelspec": {
   "display_name": "Python 3 (ipykernel)",
   "language": "python",
   "name": "python3"
  },
  "language_info": {
   "codemirror_mode": {
    "name": "ipython",
    "version": 3
   },
   "file_extension": ".py",
   "mimetype": "text/x-python",
   "name": "python",
   "nbconvert_exporter": "python",
   "pygments_lexer": "ipython3",
   "version": "3.11.6"
  }
 },
 "nbformat": 4,
 "nbformat_minor": 5
}
