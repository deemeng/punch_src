{
 "cells": [
  {
   "cell_type": "code",
   "execution_count": 7,
   "id": "229458e8-c11f-4744-8863-72fc974231ea",
   "metadata": {},
   "outputs": [],
   "source": [
    "import os\n",
    "import Bio\n",
    "from Bio import SeqIO\n",
    "\n",
    "# import params.PDBparser as paramsPDB\n",
    "# from utils.file import dump_list2json\n",
    "# from utils.pdbParser import get_missing_tab, get_missing_idx\n",
    "\n",
    "import pandas as pd"
   ]
  },
  {
   "cell_type": "code",
   "execution_count": 8,
   "id": "0dc41fb0-7dc2-4e56-8d90-110ab971dd04",
   "metadata": {},
   "outputs": [],
   "source": [
    "class paramsPDB:\n",
    "    path_cls30Rep = ''\n",
    "    path_cls30Rep_folder = ''"
   ]
  },
  {
   "cell_type": "code",
   "execution_count": 11,
   "id": "7db813ea-ac9e-4f94-a12b-2ab7b9fd346d",
   "metadata": {},
   "outputs": [],
   "source": [
    "paramsPDB.path_cls30Rep = 'clusterRes_rep_seq.fasta'\n",
    "paramsPDB.path_cls30Rep_folder = 'seq'"
   ]
  },
  {
   "cell_type": "code",
   "execution_count": null,
   "id": "caa2ee0a-65c6-41b9-b98b-021a73cc6254",
   "metadata": {},
   "outputs": [],
   "source": []
  },
  {
   "cell_type": "code",
   "execution_count": 15,
   "id": "98d8c9ea-8ac0-4393-b7fb-e7c547058b78",
   "metadata": {},
   "outputs": [],
   "source": [
    "with open(paramsPDB.path_cls30Rep) as handle:\n",
    "    for record in SeqIO.parse(handle, \"fasta\"):\n",
    "        seq_path = os.path.join(paramsPDB.path_cls30Rep_folder, f'{record.id}')\n",
    "        SeqIO.write([record], seq_path, \"fasta\")"
   ]
  },
  {
   "cell_type": "code",
   "execution_count": null,
   "id": "a86d3d82-8b32-413a-ba31-a7ce288901e8",
   "metadata": {},
   "outputs": [],
   "source": [
    "# parse hmnm code path\n",
    "# /home/dimeng/project/hackathon/hackV4_esm/parse_features.py"
   ]
  }
 ],
 "metadata": {
  "kernelspec": {
   "display_name": "Python 3 (ipykernel)",
   "language": "python",
   "name": "python3"
  },
  "language_info": {
   "codemirror_mode": {
    "name": "ipython",
    "version": 3
   },
   "file_extension": ".py",
   "mimetype": "text/x-python",
   "name": "python",
   "nbconvert_exporter": "python",
   "pygments_lexer": "ipython3",
   "version": "3.11.6"
  }
 },
 "nbformat": 4,
 "nbformat_minor": 5
}
