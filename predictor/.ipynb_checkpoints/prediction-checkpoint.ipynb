{
 "cells": [
  {
   "cell_type": "code",
   "execution_count": 1,
   "id": "ccd91122-b09d-47f1-b7b0-5b4bb6598520",
   "metadata": {},
   "outputs": [],
   "source": [
    "import os\n",
    "from typing import List\n",
    "# import biopython package\n",
    "from Bio import SeqIO\n",
    "\n",
    "import numpy as np\n",
    "import pandas as pd\n",
    "import torch\n",
    "import torch.nn as nn\n",
    "import matplotlib\n",
    "from matplotlib import pyplot as plt\n",
    "from sklearn import metrics\n",
    "from torch import optim\n",
    "from torch.utils.data import DataLoader\n",
    "\n",
    "from dataset.idr_dataset import IDRDataset, Sequence, collate_fn\n",
    "from dataset.utils import PadRightTo, parse_target\n",
    "\n",
    "from utils.common import dump_list2json\n",
    "\n",
    "import params.filePath as paramF\n",
    "import params.hyperparams as paramH\n",
    "\n",
    "import json\n",
    "\n",
    "from model.utils import plot_auc_and_loss, plot_roc_curve, save_checkpoint, load_checkpoint\n",
    "from model.train import train, test, predict_one_sequence\n",
    "\n",
    "\n",
    "# import model\n",
    "import importlib\n",
    "model = importlib.import_module(paramH.netName)\n",
    "\n",
    "# only the encoder part of the mdoel\n",
    "from transformers import T5EncoderModel, T5Tokenizer\n",
    "import re\n",
    "import gc\n",
    "\n",
    "from dataset.embedding import get_PLM_embedding"
   ]
  },
  {
   "cell_type": "markdown",
   "id": "5fcc1e94-9459-40f8-9e53-33412ed7a1a4",
   "metadata": {},
   "source": [
    "# 1. Load the model"
   ]
  },
  {
   "cell_type": "markdown",
   "id": "9b806aaa-9d30-46bb-954d-9abe46e8293a",
   "metadata": {},
   "source": [
    "## plm"
   ]
  },
  {
   "cell_type": "code",
   "execution_count": 8,
   "id": "429f79ac-5fab-411d-9274-47cb56915c5e",
   "metadata": {},
   "outputs": [
    {
     "name": "stdout",
     "output_type": "stream",
     "text": [
      "Using device: cpu\n"
     ]
    },
    {
     "name": "stderr",
     "output_type": "stream",
     "text": [
      "Some weights of the model checkpoint at Rostlab/prot_t5_xl_uniref50 were not used when initializing T5EncoderModel: ['decoder.block.12.layer.1.EncDecAttention.k.weight', 'decoder.block.17.layer.0.SelfAttention.k.weight', 'decoder.block.19.layer.2.DenseReluDense.wo.weight', 'decoder.block.14.layer.2.DenseReluDense.wo.weight', 'decoder.block.9.layer.2.DenseReluDense.wi.weight', 'decoder.block.18.layer.1.layer_norm.weight', 'decoder.block.0.layer.0.SelfAttention.q.weight', 'decoder.block.8.layer.0.SelfAttention.q.weight', 'decoder.block.9.layer.0.SelfAttention.v.weight', 'decoder.block.14.layer.0.SelfAttention.k.weight', 'decoder.block.8.layer.1.EncDecAttention.o.weight', 'decoder.block.15.layer.1.EncDecAttention.k.weight', 'decoder.block.22.layer.0.SelfAttention.o.weight', 'decoder.block.13.layer.1.EncDecAttention.o.weight', 'decoder.block.5.layer.0.SelfAttention.v.weight', 'decoder.block.11.layer.0.SelfAttention.q.weight', 'decoder.block.4.layer.0.SelfAttention.q.weight', 'decoder.block.11.layer.2.DenseReluDense.wi.weight', 'decoder.block.21.layer.0.SelfAttention.q.weight', 'decoder.block.3.layer.2.layer_norm.weight', 'decoder.block.15.layer.0.SelfAttention.k.weight', 'decoder.block.19.layer.0.SelfAttention.o.weight', 'decoder.block.2.layer.1.EncDecAttention.v.weight', 'decoder.block.10.layer.0.layer_norm.weight', 'decoder.block.18.layer.0.layer_norm.weight', 'decoder.block.6.layer.0.SelfAttention.q.weight', 'decoder.block.3.layer.2.DenseReluDense.wo.weight', 'decoder.block.12.layer.1.layer_norm.weight', 'decoder.block.17.layer.0.SelfAttention.q.weight', 'decoder.block.0.layer.2.DenseReluDense.wi.weight', 'decoder.block.4.layer.0.SelfAttention.k.weight', 'decoder.block.3.layer.0.SelfAttention.v.weight', 'decoder.block.9.layer.1.EncDecAttention.q.weight', 'decoder.block.16.layer.0.SelfAttention.o.weight', 'decoder.block.19.layer.0.SelfAttention.k.weight', 'decoder.block.16.layer.2.layer_norm.weight', 'decoder.block.2.layer.1.EncDecAttention.o.weight', 'decoder.block.20.layer.1.EncDecAttention.o.weight', 'decoder.block.18.layer.2.layer_norm.weight', 'decoder.block.15.layer.2.layer_norm.weight', 'decoder.block.1.layer.1.EncDecAttention.v.weight', 'decoder.block.21.layer.1.layer_norm.weight', 'decoder.block.18.layer.0.SelfAttention.o.weight', 'decoder.block.13.layer.0.layer_norm.weight', 'decoder.block.19.layer.1.EncDecAttention.q.weight', 'decoder.block.19.layer.2.DenseReluDense.wi.weight', 'decoder.block.2.layer.1.layer_norm.weight', 'decoder.block.10.layer.1.layer_norm.weight', 'decoder.block.6.layer.1.layer_norm.weight', 'decoder.block.17.layer.1.EncDecAttention.q.weight', 'decoder.block.10.layer.1.EncDecAttention.v.weight', 'decoder.block.10.layer.0.SelfAttention.q.weight', 'decoder.block.23.layer.1.layer_norm.weight', 'decoder.block.14.layer.1.EncDecAttention.o.weight', 'decoder.block.5.layer.1.layer_norm.weight', 'decoder.block.2.layer.2.layer_norm.weight', 'decoder.block.7.layer.2.DenseReluDense.wo.weight', 'decoder.block.15.layer.0.layer_norm.weight', 'decoder.block.23.layer.0.SelfAttention.k.weight', 'decoder.block.20.layer.0.SelfAttention.q.weight', 'decoder.block.14.layer.1.EncDecAttention.v.weight', 'decoder.block.17.layer.0.SelfAttention.v.weight', 'decoder.block.5.layer.1.EncDecAttention.v.weight', 'decoder.block.0.layer.2.layer_norm.weight', 'decoder.block.16.layer.1.layer_norm.weight', 'decoder.block.13.layer.0.SelfAttention.k.weight', 'decoder.block.2.layer.0.layer_norm.weight', 'decoder.block.16.layer.2.DenseReluDense.wi.weight', 'decoder.block.13.layer.0.SelfAttention.v.weight', 'decoder.block.20.layer.1.EncDecAttention.v.weight', 'decoder.block.7.layer.1.EncDecAttention.v.weight', 'decoder.block.10.layer.2.layer_norm.weight', 'decoder.block.1.layer.0.SelfAttention.v.weight', 'decoder.block.6.layer.0.layer_norm.weight', 'decoder.block.0.layer.1.layer_norm.weight', 'decoder.block.15.layer.2.DenseReluDense.wo.weight', 'decoder.block.20.layer.0.SelfAttention.o.weight', 'decoder.block.18.layer.0.SelfAttention.q.weight', 'decoder.block.9.layer.1.layer_norm.weight', 'decoder.block.20.layer.2.layer_norm.weight', 'decoder.block.15.layer.1.layer_norm.weight', 'decoder.block.14.layer.2.layer_norm.weight', 'decoder.block.12.layer.0.SelfAttention.q.weight', 'decoder.block.1.layer.0.SelfAttention.k.weight', 'decoder.block.11.layer.0.SelfAttention.o.weight', 'decoder.block.10.layer.1.EncDecAttention.q.weight', 'decoder.block.4.layer.2.layer_norm.weight', 'decoder.block.13.layer.1.EncDecAttention.k.weight', 'decoder.block.23.layer.0.SelfAttention.q.weight', 'decoder.block.22.layer.2.DenseReluDense.wi.weight', 'decoder.block.1.layer.2.layer_norm.weight', 'decoder.block.8.layer.0.SelfAttention.v.weight', 'decoder.block.12.layer.0.SelfAttention.o.weight', 'decoder.block.16.layer.2.DenseReluDense.wo.weight', 'decoder.block.13.layer.0.SelfAttention.o.weight', 'decoder.block.17.layer.2.DenseReluDense.wo.weight', 'decoder.block.21.layer.2.DenseReluDense.wo.weight', 'decoder.block.15.layer.1.EncDecAttention.v.weight', 'decoder.block.4.layer.2.DenseReluDense.wo.weight', 'decoder.block.14.layer.0.SelfAttention.v.weight', 'decoder.block.16.layer.1.EncDecAttention.v.weight', 'decoder.block.13.layer.1.EncDecAttention.q.weight', 'decoder.block.20.layer.0.layer_norm.weight', 'decoder.block.17.layer.0.SelfAttention.o.weight', 'decoder.block.8.layer.2.DenseReluDense.wi.weight', 'decoder.block.8.layer.0.layer_norm.weight', 'decoder.block.22.layer.1.EncDecAttention.k.weight', 'decoder.block.23.layer.2.layer_norm.weight', 'decoder.block.18.layer.2.DenseReluDense.wi.weight', 'decoder.block.6.layer.0.SelfAttention.k.weight', 'decoder.block.10.layer.2.DenseReluDense.wo.weight', 'decoder.block.8.layer.1.EncDecAttention.q.weight', 'decoder.block.7.layer.1.EncDecAttention.o.weight', 'decoder.block.13.layer.1.layer_norm.weight', 'decoder.block.3.layer.0.layer_norm.weight', 'decoder.block.16.layer.0.SelfAttention.v.weight', 'decoder.block.0.layer.2.DenseReluDense.wo.weight', 'decoder.block.9.layer.1.EncDecAttention.o.weight', 'decoder.block.11.layer.2.layer_norm.weight', 'decoder.block.4.layer.0.SelfAttention.v.weight', 'decoder.block.22.layer.0.layer_norm.weight', 'decoder.block.13.layer.2.DenseReluDense.wo.weight', 'decoder.block.0.layer.1.EncDecAttention.o.weight', 'decoder.block.22.layer.1.layer_norm.weight', 'decoder.block.6.layer.2.DenseReluDense.wo.weight', 'decoder.block.23.layer.0.SelfAttention.o.weight', 'decoder.block.21.layer.1.EncDecAttention.q.weight', 'decoder.block.15.layer.0.SelfAttention.o.weight', 'decoder.block.12.layer.1.EncDecAttention.v.weight', 'decoder.block.3.layer.2.DenseReluDense.wi.weight', 'decoder.block.9.layer.0.SelfAttention.o.weight', 'decoder.block.22.layer.1.EncDecAttention.q.weight', 'decoder.block.2.layer.0.SelfAttention.v.weight', 'decoder.block.0.layer.0.SelfAttention.relative_attention_bias.weight', 'decoder.block.19.layer.1.EncDecAttention.o.weight', 'decoder.block.4.layer.0.SelfAttention.o.weight', 'decoder.block.9.layer.1.EncDecAttention.v.weight', 'decoder.block.3.layer.1.layer_norm.weight', 'decoder.block.0.layer.1.EncDecAttention.k.weight', 'decoder.block.7.layer.2.DenseReluDense.wi.weight', 'decoder.block.4.layer.2.DenseReluDense.wi.weight', 'decoder.block.3.layer.1.EncDecAttention.v.weight', 'decoder.block.14.layer.1.layer_norm.weight', 'decoder.block.22.layer.1.EncDecAttention.v.weight', 'decoder.block.23.layer.0.layer_norm.weight', 'decoder.block.22.layer.0.SelfAttention.v.weight', 'decoder.block.7.layer.0.SelfAttention.v.weight', 'decoder.block.8.layer.0.SelfAttention.k.weight', 'decoder.block.13.layer.2.DenseReluDense.wi.weight', 'decoder.block.20.layer.1.EncDecAttention.k.weight', 'decoder.block.3.layer.0.SelfAttention.k.weight', 'decoder.block.21.layer.0.SelfAttention.v.weight', 'decoder.block.11.layer.1.layer_norm.weight', 'decoder.block.4.layer.0.layer_norm.weight', 'decoder.block.20.layer.1.EncDecAttention.q.weight', 'decoder.block.13.layer.0.SelfAttention.q.weight', 'decoder.block.8.layer.2.DenseReluDense.wo.weight', 'decoder.block.12.layer.0.SelfAttention.k.weight', 'decoder.block.18.layer.1.EncDecAttention.v.weight', 'decoder.block.7.layer.0.SelfAttention.k.weight', 'decoder.block.1.layer.0.SelfAttention.o.weight', 'decoder.final_layer_norm.weight', 'decoder.block.11.layer.0.layer_norm.weight', 'decoder.block.5.layer.1.EncDecAttention.q.weight', 'decoder.block.2.layer.0.SelfAttention.o.weight', 'decoder.block.9.layer.0.SelfAttention.k.weight', 'decoder.block.16.layer.0.layer_norm.weight', 'decoder.block.17.layer.1.layer_norm.weight', 'decoder.block.10.layer.0.SelfAttention.k.weight', 'decoder.block.1.layer.0.layer_norm.weight', 'decoder.block.0.layer.0.layer_norm.weight', 'decoder.block.18.layer.1.EncDecAttention.q.weight', 'decoder.block.23.layer.1.EncDecAttention.o.weight', 'decoder.block.2.layer.0.SelfAttention.k.weight', 'decoder.block.19.layer.1.layer_norm.weight', 'decoder.block.6.layer.1.EncDecAttention.k.weight', 'decoder.block.6.layer.0.SelfAttention.v.weight', 'decoder.block.19.layer.0.SelfAttention.v.weight', 'decoder.block.22.layer.0.SelfAttention.k.weight', 'decoder.block.0.layer.1.EncDecAttention.q.weight', 'decoder.block.11.layer.1.EncDecAttention.o.weight', 'decoder.block.11.layer.0.SelfAttention.k.weight', 'decoder.block.7.layer.2.layer_norm.weight', 'decoder.block.13.layer.2.layer_norm.weight', 'decoder.block.10.layer.0.SelfAttention.o.weight', 'decoder.block.22.layer.2.DenseReluDense.wo.weight', 'decoder.block.16.layer.1.EncDecAttention.o.weight', 'decoder.block.18.layer.2.DenseReluDense.wo.weight', 'decoder.block.14.layer.2.DenseReluDense.wi.weight', 'decoder.block.1.layer.1.EncDecAttention.k.weight', 'decoder.block.20.layer.0.SelfAttention.k.weight', 'decoder.block.14.layer.1.EncDecAttention.q.weight', 'decoder.block.5.layer.1.EncDecAttention.k.weight', 'decoder.block.6.layer.0.SelfAttention.o.weight', 'decoder.block.23.layer.2.DenseReluDense.wo.weight', 'decoder.block.16.layer.0.SelfAttention.k.weight', 'decoder.block.0.layer.0.SelfAttention.o.weight', 'decoder.block.22.layer.1.EncDecAttention.o.weight', 'decoder.block.6.layer.1.EncDecAttention.o.weight', 'decoder.block.19.layer.1.EncDecAttention.v.weight', 'decoder.block.23.layer.0.SelfAttention.v.weight', 'decoder.block.5.layer.2.DenseReluDense.wo.weight', 'decoder.block.1.layer.1.EncDecAttention.q.weight', 'decoder.block.8.layer.1.layer_norm.weight', 'decoder.block.3.layer.1.EncDecAttention.k.weight', 'decoder.block.18.layer.0.SelfAttention.k.weight', 'decoder.block.17.layer.2.layer_norm.weight', 'decoder.block.21.layer.1.EncDecAttention.v.weight', 'decoder.block.19.layer.2.layer_norm.weight', 'decoder.block.21.layer.0.layer_norm.weight', 'decoder.block.7.layer.1.EncDecAttention.q.weight', 'decoder.block.15.layer.0.SelfAttention.v.weight', 'decoder.block.23.layer.1.EncDecAttention.q.weight', 'decoder.block.12.layer.1.EncDecAttention.q.weight', 'decoder.block.6.layer.2.layer_norm.weight', 'decoder.block.12.layer.0.layer_norm.weight', 'decoder.block.0.layer.1.EncDecAttention.v.weight', 'decoder.block.7.layer.1.EncDecAttention.k.weight', 'decoder.block.22.layer.2.layer_norm.weight', 'decoder.block.19.layer.0.layer_norm.weight', 'decoder.block.12.layer.0.SelfAttention.v.weight', 'decoder.block.11.layer.1.EncDecAttention.q.weight', 'decoder.block.10.layer.1.EncDecAttention.o.weight', 'decoder.block.16.layer.0.SelfAttention.q.weight', 'decoder.block.20.layer.0.SelfAttention.v.weight', 'decoder.block.21.layer.0.SelfAttention.k.weight', 'decoder.block.3.layer.1.EncDecAttention.q.weight', 'decoder.block.14.layer.0.layer_norm.weight', 'decoder.block.8.layer.1.EncDecAttention.k.weight', 'decoder.block.21.layer.2.layer_norm.weight', 'decoder.block.9.layer.0.layer_norm.weight', 'decoder.block.13.layer.1.EncDecAttention.v.weight', 'decoder.block.4.layer.1.EncDecAttention.o.weight', 'decoder.block.11.layer.0.SelfAttention.v.weight', 'decoder.block.8.layer.1.EncDecAttention.v.weight', 'decoder.block.9.layer.1.EncDecAttention.k.weight', 'decoder.block.3.layer.0.SelfAttention.q.weight', 'decoder.block.17.layer.1.EncDecAttention.v.weight', 'decoder.block.8.layer.2.layer_norm.weight', 'decoder.block.21.layer.1.EncDecAttention.k.weight', 'decoder.block.20.layer.2.DenseReluDense.wo.weight', 'decoder.block.7.layer.1.layer_norm.weight', 'decoder.block.6.layer.1.EncDecAttention.q.weight', 'decoder.block.15.layer.2.DenseReluDense.wi.weight', 'decoder.block.4.layer.1.EncDecAttention.v.weight', 'decoder.block.12.layer.2.DenseReluDense.wo.weight', 'decoder.block.23.layer.2.DenseReluDense.wi.weight', 'decoder.block.2.layer.2.DenseReluDense.wo.weight', 'decoder.block.5.layer.0.SelfAttention.k.weight', 'decoder.block.20.layer.1.layer_norm.weight', 'decoder.block.10.layer.2.DenseReluDense.wi.weight', 'decoder.block.21.layer.1.EncDecAttention.o.weight', 'decoder.block.17.layer.0.layer_norm.weight', 'decoder.block.14.layer.0.SelfAttention.o.weight', 'decoder.embed_tokens.weight', 'decoder.block.15.layer.1.EncDecAttention.o.weight', 'decoder.block.18.layer.1.EncDecAttention.k.weight', 'decoder.block.1.layer.1.EncDecAttention.o.weight', 'decoder.block.23.layer.1.EncDecAttention.k.weight', 'decoder.block.18.layer.1.EncDecAttention.o.weight', 'decoder.block.1.layer.0.SelfAttention.q.weight', 'decoder.block.8.layer.0.SelfAttention.o.weight', 'decoder.block.16.layer.1.EncDecAttention.q.weight', 'decoder.block.12.layer.2.DenseReluDense.wi.weight', 'decoder.block.17.layer.1.EncDecAttention.o.weight', 'decoder.block.7.layer.0.layer_norm.weight', 'decoder.block.22.layer.0.SelfAttention.q.weight', 'decoder.block.17.layer.1.EncDecAttention.k.weight', 'decoder.block.9.layer.2.layer_norm.weight', 'decoder.block.3.layer.1.EncDecAttention.o.weight', 'decoder.block.11.layer.2.DenseReluDense.wo.weight', 'decoder.block.21.layer.2.DenseReluDense.wi.weight', 'decoder.block.4.layer.1.layer_norm.weight', 'decoder.block.1.layer.1.layer_norm.weight', 'decoder.block.7.layer.0.SelfAttention.q.weight', 'decoder.block.9.layer.0.SelfAttention.q.weight', 'decoder.block.2.layer.2.DenseReluDense.wi.weight', 'decoder.block.10.layer.0.SelfAttention.v.weight', 'decoder.block.4.layer.1.EncDecAttention.q.weight', 'decoder.block.5.layer.1.EncDecAttention.o.weight', 'decoder.block.9.layer.2.DenseReluDense.wo.weight', 'decoder.block.5.layer.0.SelfAttention.q.weight', 'decoder.block.10.layer.1.EncDecAttention.k.weight', 'decoder.block.11.layer.1.EncDecAttention.k.weight', 'decoder.block.12.layer.1.EncDecAttention.o.weight', 'decoder.block.0.layer.0.SelfAttention.k.weight', 'decoder.block.14.layer.1.EncDecAttention.k.weight', 'decoder.block.1.layer.2.DenseReluDense.wo.weight', 'decoder.block.2.layer.1.EncDecAttention.k.weight', 'decoder.block.19.layer.0.SelfAttention.q.weight', 'decoder.block.0.layer.0.SelfAttention.v.weight', 'decoder.block.5.layer.2.layer_norm.weight', 'decoder.block.20.layer.2.DenseReluDense.wi.weight', 'decoder.block.5.layer.0.SelfAttention.o.weight', 'decoder.block.1.layer.2.DenseReluDense.wi.weight', 'decoder.block.18.layer.0.SelfAttention.v.weight', 'lm_head.weight', 'decoder.block.2.layer.0.SelfAttention.q.weight', 'decoder.block.15.layer.1.EncDecAttention.q.weight', 'decoder.block.3.layer.0.SelfAttention.o.weight', 'decoder.block.21.layer.0.SelfAttention.o.weight', 'decoder.block.4.layer.1.EncDecAttention.k.weight', 'decoder.block.14.layer.0.SelfAttention.q.weight', 'decoder.block.17.layer.2.DenseReluDense.wi.weight', 'decoder.block.6.layer.1.EncDecAttention.v.weight', 'decoder.block.12.layer.2.layer_norm.weight', 'decoder.block.6.layer.2.DenseReluDense.wi.weight', 'decoder.block.19.layer.1.EncDecAttention.k.weight', 'decoder.block.16.layer.1.EncDecAttention.k.weight', 'decoder.block.5.layer.2.DenseReluDense.wi.weight', 'decoder.block.2.layer.1.EncDecAttention.q.weight', 'decoder.block.5.layer.0.layer_norm.weight', 'decoder.block.7.layer.0.SelfAttention.o.weight', 'decoder.block.11.layer.1.EncDecAttention.v.weight', 'decoder.block.15.layer.0.SelfAttention.q.weight', 'decoder.block.23.layer.1.EncDecAttention.v.weight']\n",
      "- This IS expected if you are initializing T5EncoderModel from the checkpoint of a model trained on another task or with another architecture (e.g. initializing a BertForSequenceClassification model from a BertForPreTraining model).\n",
      "- This IS NOT expected if you are initializing T5EncoderModel from the checkpoint of a model that you expect to be exactly identical (initializing a BertForSequenceClassification model from a BertForSequenceClassification model).\n"
     ]
    }
   ],
   "source": [
    "# 1. model\n",
    "device = torch.device('cuda' if torch.cuda.is_available() else 'cpu')\n",
    "print('Using device:', device)\n",
    "\n",
    "\n",
    "tokenizer = T5Tokenizer.from_pretrained(\"Rostlab/prot_t5_xl_uniref50\", do_lower_case=False)\n",
    "plm = T5EncoderModel.from_pretrained(\"Rostlab/prot_t5_xl_uniref50\")\n",
    "plm = plm.to(device)\n",
    "plm = plm.eval()\n"
   ]
  },
  {
   "cell_type": "markdown",
   "id": "43a124c6-3850-4ee5-ba9f-5681abfff2c9",
   "metadata": {},
   "source": [
    "## predictor"
   ]
  },
  {
   "cell_type": "code",
   "execution_count": 4,
   "id": "418d1c92-28dc-4ddb-a3eb-761463c380e3",
   "metadata": {},
   "outputs": [],
   "source": [
    "# Instantiate the model\n",
    "net = model.Net(in_features=paramH.n_features, dropout=paramH.dropout).to(device)\n",
    "\n",
    "# optimizer = optim.SGD(net.parameters(), lr=0.001, momentum=0.9)\n",
    "optimizer = optim.Adam(net.parameters(), lr=paramH.lr)"
   ]
  },
  {
   "cell_type": "code",
   "execution_count": 5,
   "id": "68b15de0-cc25-4b67-96e5-cf99fe344aa8",
   "metadata": {},
   "outputs": [
    {
     "name": "stdout",
     "output_type": "stream",
     "text": [
      "=> loading checkpoint '/home/dimeng/project/idr/predictor/output/trained_model/model.cnnV2_all.pth'\n",
      "=> loaded checkpoint '0.05594796687364578' (epoch 8)\n"
     ]
    }
   ],
   "source": [
    "net, optimizer, start_epoch, losslogger = load_checkpoint(net, optimizer, paramF.model_pth)"
   ]
  },
  {
   "cell_type": "code",
   "execution_count": 6,
   "id": "0cb1221b-4f40-4973-81e1-431b551c0706",
   "metadata": {},
   "outputs": [
    {
     "data": {
      "text/plain": [
       "Net(\n",
       "  (conv1): Conv1d(1024, 50, kernel_size=(3,), stride=(1,), padding=(1,))\n",
       "  (conv2): Conv1d(50, 30, kernel_size=(5,), stride=(1,), padding=(2,))\n",
       "  (conv3): Conv1d(30, 30, kernel_size=(7,), stride=(1,), padding=(3,))\n",
       "  (conv4): Conv1d(30, 20, kernel_size=(11,), stride=(1,), padding=(5,))\n",
       "  (conv5): Conv1d(20, 20, kernel_size=(15,), stride=(1,), padding=(7,))\n",
       "  (conv6): Conv1d(20, 20, kernel_size=(21,), stride=(1,), padding=(10,))\n",
       "  (conv7): Conv1d(20, 20, kernel_size=(15,), stride=(1,), padding=(7,))\n",
       "  (conv8): Conv1d(20, 20, kernel_size=(11,), stride=(1,), padding=(5,))\n",
       "  (conv9): Conv1d(20, 10, kernel_size=(7,), stride=(1,), padding=(3,))\n",
       "  (conv10): Conv1d(10, 10, kernel_size=(5,), stride=(1,), padding=(2,))\n",
       "  (conv11): Conv1d(10, 1, kernel_size=(1,), stride=(1,))\n",
       "  (sigmoid): Sigmoid()\n",
       "  (relu): ReLU()\n",
       "  (dropout): Dropout(p=0.3, inplace=False)\n",
       ")"
      ]
     },
     "execution_count": 6,
     "metadata": {},
     "output_type": "execute_result"
    }
   ],
   "source": [
    "net.eval()"
   ]
  },
  {
   "cell_type": "markdown",
   "id": "dbd384a6-7955-4df5-8a00-64aa59c2966e",
   "metadata": {},
   "source": [
    "# 2. sequence"
   ]
  },
  {
   "cell_type": "code",
   "execution_count": 7,
   "id": "93f76854-b91b-4695-929a-f242f3abb871",
   "metadata": {},
   "outputs": [
    {
     "name": "stdout",
     "output_type": "stream",
     "text": [
      "/home/dimeng/project/idr/data/uniprot/A0A024QZB8.fasta\n"
     ]
    }
   ],
   "source": [
    "# Q9Y223 Q5ZVE4 O08908\n",
    "unp_acc = 'A0A024QZB8'\n",
    "test_seq_pth = os.path.join(paramF.path_uniprot, f'{unp_acc}.fasta')\n",
    "print(test_seq_pth)\n",
    "seq = str(SeqIO.read(test_seq_pth, 'fasta').seq)"
   ]
  },
  {
   "cell_type": "code",
   "execution_count": 7,
   "id": "902116be-d761-429b-b7f8-f1ddca706e4c",
   "metadata": {},
   "outputs": [],
   "source": [
    "# seq = \"TDERDRVQKKTFTKWVNKHLIKHWRAEAQRHISDLYEDLRDGHNLISLLEVLSGDSLPREKGRMRFHKLQNVQIALDYLRHRQVKLVNIRNDDIADGNPKLTLGLIWTIILHFQISDIQVSGQSEDMTAKEKLLLWSQRMVEGYQGLRCDNFTTSWRDGRLFNAIIHRHKPMLIDMNKVYRQTNLENLDQAFSVAERDLGVTRLLDPEDVDVPQPDEKSIITYVSSLYDAMPRVPGAQ\""
   ]
  },
  {
   "cell_type": "markdown",
   "id": "bdbd3790-eabb-44c6-9d63-5c335521aa8f",
   "metadata": {},
   "source": [
    "# 3. embedding"
   ]
  },
  {
   "cell_type": "markdown",
   "id": "7c217ed3-598b-4022-8fde-9efcdbc4c2e6",
   "metadata": {},
   "source": [
    "## 3.1. embedding + prediction"
   ]
  },
  {
   "cell_type": "code",
   "execution_count": 9,
   "id": "62f7d480-8c86-4139-a762-a8660915af48",
   "metadata": {},
   "outputs": [],
   "source": [
    "seq = ' '.join(seq)\n",
    "seq_embedded = get_PLM_embedding([seq], plm, tokenizer)\n",
    "data = torch.tensor(np.array(seq_embedded)[0].T).unsqueeze(0)\n",
    "pred = net(data).tolist()[0]"
   ]
  },
  {
   "cell_type": "code",
   "execution_count": 10,
   "id": "bc97f38e-4eb1-47b4-925f-b25cd9dc14a2",
   "metadata": {},
   "outputs": [
    {
     "data": {
      "text/plain": [
       "torch.Size([1, 1024, 438])"
      ]
     },
     "execution_count": 10,
     "metadata": {},
     "output_type": "execute_result"
    }
   ],
   "source": [
    "data.shape"
   ]
  },
  {
   "cell_type": "markdown",
   "id": "1b4f0f54-5a43-4696-94a2-d656246f451f",
   "metadata": {
    "jp-MarkdownHeadingCollapsed": true,
    "tags": []
   },
   "source": [
    "## 3.2. (ignore!!!!)load embedded data --> prediction"
   ]
  },
  {
   "cell_type": "code",
   "execution_count": 28,
   "id": "f4edc890-7423-46f4-b907-84226827e9f9",
   "metadata": {},
   "outputs": [],
   "source": [
    "# Load the data\n",
    "train_data = pd.read_json(os.path.join(train_json_path), orient='records', dtype=False)\n",
    "test_data = pd.read_json(os.path.join(test_json_path), orient='records', dtype=False)\n",
    "\n",
    "train_data['p_len'] = train_data['sequence'].map(lambda x: len(x))\n",
    "test_data['p_len'] = test_data['sequence'].map(lambda x: len(x))"
   ]
  },
  {
   "cell_type": "code",
   "execution_count": 29,
   "id": "f85ecc7a-5d1d-4713-a051-8d42a3a99716",
   "metadata": {},
   "outputs": [
    {
     "data": {
      "text/plain": [
       "['2y3a_b_O08908']"
      ]
     },
     "execution_count": 29,
     "metadata": {},
     "output_type": "execute_result"
    }
   ],
   "source": [
    "# find idx\n",
    "[id for id in test_data['id'] if 'O08908' in id]"
   ]
  },
  {
   "cell_type": "code",
   "execution_count": 30,
   "id": "9fcb738d-88b9-4233-a5fe-eb92d997568d",
   "metadata": {},
   "outputs": [
    {
     "name": "stderr",
     "output_type": "stream",
     "text": [
      "Importing sequences: 100%|███████████████████████████████████████████████████████████████████████████████████████████████████████████████████████████████████████████████████████████████████████████████████████████████████████████████████████| 1/1 [00:00<00:00, 326.68it/s]"
     ]
    },
    {
     "name": "stdout",
     "output_type": "stream",
     "text": [
      "0\n",
      "[1.40013953e-03 2.31096010e-06 2.93990121e-09 1.22074477e-11\n",
      " 1.36426596e-13 4.58609684e-15 4.82928741e-16 1.34286698e-16\n",
      " 7.97469873e-17 7.56245706e-17 8.46231641e-17 8.95368485e-17\n",
      " 8.23638427e-17 6.61645493e-17 4.99238109e-17 3.84558814e-17\n",
      " 3.22307749e-17 2.99590723e-17 3.02484564e-17 3.17631763e-17\n",
      " 3.31464936e-17 3.35792018e-17 3.34309379e-17 3.43860006e-17\n",
      " 3.95234275e-17 5.53703452e-17 1.01420622e-16 2.51037590e-16\n",
      " 8.28595952e-16 3.43839367e-15 1.63980293e-14 8.13683837e-14\n",
      " 3.85556983e-13 1.65138638e-12 6.27659643e-12 2.14552837e-11\n",
      " 6.78913384e-11 2.04262551e-10 5.90286042e-10 1.61965508e-09\n",
      " 4.09565493e-09 9.19792686e-09 1.78440001e-08 2.96982936e-08\n",
      " 4.32538059e-08 5.76167380e-08 7.43576578e-08 9.83141746e-08\n",
      " 1.38253853e-07 2.08282003e-07 3.26838375e-07 5.04004561e-07\n",
      " 7.10675465e-07 8.58381782e-07 8.57683062e-07 7.13868815e-07\n",
      " 5.20837716e-07 3.60519294e-07 2.57242249e-07 2.00978278e-07\n",
      " 1.75105910e-07 1.65851148e-07 1.61115878e-07 1.50074854e-07\n",
      " 1.27045638e-07 9.55574677e-08 6.45408562e-08 4.04469951e-08\n",
      " 2.44411744e-08 1.46103121e-08 8.67162608e-09 5.01232300e-09\n",
      " 2.73644507e-09 1.37577683e-09 6.35565434e-10 2.79106460e-10\n",
      " 1.25513613e-10 6.44627615e-11 4.28819549e-11 4.15168212e-11\n",
      " 6.32172648e-11 1.53195817e-10 5.55908652e-10 2.65807754e-09\n",
      " 1.38006140e-08 6.23576284e-08 2.00916205e-07 4.02613495e-07\n",
      " 4.89850436e-07 3.89033602e-07 2.24674096e-07 1.08057144e-07\n",
      " 4.81238800e-08 2.15927241e-08 1.03080282e-08 5.33059596e-09\n",
      " 2.96619929e-09 1.74913828e-09 1.08338949e-09 7.07721992e-10\n",
      " 4.96047814e-10 3.81804838e-10 3.28603172e-10 3.17986304e-10\n",
      " 3.42032319e-10 3.99684896e-10 4.93749319e-10 6.31389718e-10\n",
      " 8.26773539e-10 1.10816567e-09 1.52616109e-09 2.16065965e-09\n",
      " 3.12471315e-09 4.55935245e-09 6.64189637e-09 9.65318048e-09\n",
      " 1.42065195e-08 2.18032934e-08 3.61822572e-08 6.68928237e-08\n",
      " 1.39613533e-07 3.25431898e-07 8.21004562e-07 2.13432941e-06\n",
      " 5.38240420e-06 1.24913877e-05 2.55876112e-05 4.54832807e-05\n",
      " 7.04858539e-05 9.68639361e-05 1.20942677e-04 1.39743701e-04\n",
      " 1.51729051e-04 1.55728529e-04 1.51557120e-04 1.40271164e-04\n",
      " 1.24040831e-04 1.05822786e-04 8.85238987e-05 7.43152414e-05\n",
      " 6.42876548e-05 5.87417017e-05 5.77007631e-05 6.13029551e-05\n",
      " 7.00952005e-05 8.52035373e-05 1.08416360e-04 1.42809920e-04\n",
      " 1.94301872e-04 2.74709397e-04 4.07213112e-04 6.36911602e-04\n",
      " 1.04244857e-03 1.72245479e-03 2.72350968e-03 3.86133092e-03\n",
      " 4.67746519e-03 4.80211014e-03 4.34430782e-03 3.69407074e-03\n",
      " 3.22896033e-03 3.12544592e-03 3.53571959e-03 4.78650723e-03\n",
      " 7.74794118e-03 1.40021117e-02 2.55308468e-02 4.31266651e-02\n",
      " 6.34331852e-02 7.96448067e-02 8.29328746e-02 7.14609399e-02\n",
      " 5.02637699e-02 2.99661532e-02 1.62304938e-02 8.67109094e-03\n",
      " 4.89799073e-03 3.17998719e-03 2.55091232e-03 2.62601278e-03\n",
      " 3.43469903e-03 5.40478202e-03 9.25663672e-03 1.54877035e-02\n",
      " 2.30568089e-02 2.90340446e-02 3.09896283e-02 2.91465130e-02\n",
      " 2.54455134e-02 2.14131679e-02 1.77723058e-02 1.45264361e-02\n",
      " 1.15698511e-02 8.89262930e-03 6.57345029e-03 4.70451266e-03\n",
      " 3.30555160e-03 2.31520529e-03 1.63109216e-03 1.15678203e-03\n",
      " 8.22056492e-04 5.83066139e-04 4.14835609e-04 3.00962798e-04\n",
      " 2.28644843e-04 1.87512196e-04 1.70367479e-04 1.74114801e-04\n",
      " 1.99950737e-04 2.52827129e-04 3.38032754e-04 4.51569911e-04\n",
      " 5.57061809e-04 5.71918848e-04 4.44010511e-04 2.44375813e-04\n",
      " 9.36119905e-05 2.68948443e-05 6.62029834e-06 1.68490715e-06\n",
      " 5.51117694e-07 2.80721309e-07 2.48935009e-07 3.86648679e-07\n",
      " 9.39782069e-07 2.92299478e-06 8.80043717e-06 1.98373400e-05\n",
      " 2.76228257e-05 2.26781922e-05 1.20299601e-05 4.90379489e-06\n",
      " 1.90668925e-06 8.57130317e-07 5.17228273e-07 4.49224899e-07\n",
      " 5.43366184e-07 8.09012533e-07 1.24124801e-06 1.64037306e-06\n",
      " 1.64295773e-06 1.20149957e-06 6.85392422e-07 3.52811583e-07\n",
      " 1.95731502e-07 1.36024525e-07 1.27739114e-07 1.58664307e-07\n",
      " 2.35061989e-07 3.58630501e-07 4.91975470e-07 5.59603336e-07\n",
      " 5.25052883e-07 4.32328619e-07 3.44463587e-07 2.91799324e-07\n",
      " 2.78160314e-07 3.00286672e-07 3.52781996e-07 4.23565723e-07\n",
      " 4.90548814e-07 5.30964940e-07 5.39498785e-07 5.33358843e-07\n",
      " 5.41643374e-07 5.95887229e-07 7.35983804e-07 1.02660897e-06\n",
      " 1.57569252e-06 2.52513973e-06 3.95008828e-06 5.64202810e-06\n",
      " 6.97141195e-06 7.22676168e-06 6.25216580e-06 4.58512159e-06\n",
      " 2.92414325e-06 1.65979304e-06 8.47554929e-07 3.86836803e-07\n",
      " 1.54843761e-07 5.29250634e-08 1.50559902e-08 3.50382745e-09\n",
      " 6.63759991e-10 1.03407477e-10 1.33651302e-11 1.44946490e-12\n",
      " 1.31461695e-13 9.96554168e-15 6.76778425e-16 4.70228653e-17\n",
      " 4.24909983e-18 8.25742249e-19 5.49853113e-19 3.48347428e-18\n",
      " 3.67563833e-16 3.79845271e-13 8.02719280e-10 1.07282922e-05]\n"
     ]
    },
    {
     "name": "stderr",
     "output_type": "stream",
     "text": [
      "\n"
     ]
    }
   ],
   "source": [
    "# if the id is in train dataset\n",
    "# train_one_id = ['1sh5_a_Q9QXS1']\n",
    "# test_one_data = train_data[train_data['id'].isin(train_one_id)]\n",
    "\n",
    "# if the id is in test dataset\n",
    "train_one_id = ['2y3a_b_O08908']\n",
    "test_one_data = test_data[test_data['id'].isin(train_one_id)]\n",
    "\n",
    "test_one_disorder = DomainLinkerDataset(data=test_one_data, feature_root=path_embedded_pdbChianUnp, map_target=map_target, model_type=model_type)\n",
    "sequence: Sequence = test_one_disorder[0]\n",
    "prediction = predict_one_sequence(net, sequence, device)\n",
    "for idx, (aa, pred) in enumerate(zip(sequence.sequence, prediction)):\n",
    "    # print(f'{idx}\\t{aa}\\t{pred}')\n",
    "    print(f'{idx}\\n{pred}')"
   ]
  },
  {
   "cell_type": "markdown",
   "id": "34066512-fb8c-48b7-a010-1adce9fc2c9f",
   "metadata": {},
   "source": [
    "### target"
   ]
  },
  {
   "cell_type": "code",
   "execution_count": 13,
   "id": "89bc30c1-a8f1-49d5-83bd-77a5b48a1616",
   "metadata": {},
   "outputs": [],
   "source": [
    "# train_idx: 0,10 \n",
    "# ['1sh5_a_Q9QXS1', '1fs1_d_P63208']\n",
    "\n",
    "# test_idx: 1,4 \n",
    "# ['1xjv_a_Q9NUX5', '1jqp_a_P80067']\n",
    "\n",
    "train_id = '1sh5_a_Q9QXS1'\n",
    "test_id = '1xjv_a_Q9NUX5'\n",
    "# Load the data\n",
    "train_data = pd.read_json(os.path.join(train_json_path), orient='records', dtype=False)\n",
    "# test_data = pd.read_json(os.path.join(test_json_path), orient='records', dtype=False)\n",
    "train_data = train_data[train_data['id']==train_id]\n",
    "# test_data = test_data[test_data['id']==test_id]"
   ]
  },
  {
   "cell_type": "code",
   "execution_count": 14,
   "id": "32203edf-7c7f-4090-af68-512fd17ef5b0",
   "metadata": {},
   "outputs": [
    {
     "data": {
      "text/html": [
       "<div>\n",
       "<style scoped>\n",
       "    .dataframe tbody tr th:only-of-type {\n",
       "        vertical-align: middle;\n",
       "    }\n",
       "\n",
       "    .dataframe tbody tr th {\n",
       "        vertical-align: top;\n",
       "    }\n",
       "\n",
       "    .dataframe thead th {\n",
       "        text-align: right;\n",
       "    }\n",
       "</style>\n",
       "<table border=\"1\" class=\"dataframe\">\n",
       "  <thead>\n",
       "    <tr style=\"text-align: right;\">\n",
       "      <th></th>\n",
       "      <th>id</th>\n",
       "      <th>sequence</th>\n",
       "      <th>reference</th>\n",
       "    </tr>\n",
       "  </thead>\n",
       "  <tbody>\n",
       "    <tr>\n",
       "      <th>0</th>\n",
       "      <td>1sh5_a_Q9QXS1</td>\n",
       "      <td>TDERDRVQKKTFTKWVNKHLIKHWRAEAQRHISDLYEDLRDGHNLI...</td>\n",
       "      <td>0044444444444444444433333444333333333333334444...</td>\n",
       "    </tr>\n",
       "  </tbody>\n",
       "</table>\n",
       "</div>"
      ],
      "text/plain": [
       "              id                                           sequence  \\\n",
       "0  1sh5_a_Q9QXS1  TDERDRVQKKTFTKWVNKHLIKHWRAEAQRHISDLYEDLRDGHNLI...   \n",
       "\n",
       "                                           reference  \n",
       "0  0044444444444444444433333444333333333333334444...  "
      ]
     },
     "execution_count": 14,
     "metadata": {},
     "output_type": "execute_result"
    }
   ],
   "source": [
    "train_data"
   ]
  },
  {
   "cell_type": "markdown",
   "id": "fec030f9-71e6-4bcd-8cc7-e795f2ee3052",
   "metadata": {},
   "source": [
    "# 4. Plots"
   ]
  },
  {
   "cell_type": "code",
   "execution_count": 12,
   "id": "2d96267f-8b7a-4d98-a030-6dd6b2978460",
   "metadata": {},
   "outputs": [
    {
     "data": {
      "image/png": "[encoded data removed]",
      "text/plain": [
       "<Figure size 1152x432 with 1 Axes>"
      ]
     },
     "metadata": {
      "needs_background": "light"
     },
     "output_type": "display_data"
    }
   ],
   "source": [
    "import numpy as np\n",
    "import matplotlib.pyplot as plt\n",
    "\n",
    "x = list(range(len(pred)))\n",
    "plt.figure(figsize=(16, 6))\n",
    "# font size\n",
    "font = {'family' : 'DejaVu Sans',\n",
    "        'weight' : 'normal',\n",
    "        'size'   : 20}\n",
    "\n",
    "matplotlib.rc('font', **font)\n",
    "\n",
    "# random colors\n",
    "colors = np.random.rand(len(pred))\n",
    "\n",
    "# plt.scatter(x, pred, c=colors, alpha=0.5)\n",
    "plt.scatter(x, pred, c=colors, alpha=0.9)\n",
    "\n",
    "fig_name = unp_acc\n",
    "# fig_name = '1fs1_d_P63208'\n",
    "plt.savefig(f'{fig_name}-{paramH.model_name}.png')\n",
    "plt.show()"
   ]
  },
  {
   "cell_type": "code",
   "execution_count": 41,
   "id": "b071c1b4-d6d9-4971-90dd-395b746a631b",
   "metadata": {},
   "outputs": [
    {
     "data": {
      "image/png": "[encoded data removed]",
      "text/plain": [
       "<Figure size 1152x432 with 1 Axes>"
      ]
     },
     "metadata": {
      "needs_background": "light"
     },
     "output_type": "display_data"
    }
   ],
   "source": [
    "plt.figure(figsize=(16, 6))\n",
    "\n",
    "# font size\n",
    "font = {'family' : 'DejaVu Sans',\n",
    "        'weight' : 'normal',\n",
    "        'size'   : 20}\n",
    "\n",
    "matplotlib.rc('font', **font)\n",
    "\n",
    "# random colors\n",
    "colors = np.random.rand(len(pred))\n",
    "\n",
    "threshold = 0.01\n",
    "pred_label = [1 if i>threshold else 0 for i in pred]\n",
    "plt.scatter(x, pred_label, c=colors, alpha=0.5)\n",
    "\n",
    "# fig_name = unp_acc\n",
    "# plt.savefig(f'{fig_name}.png')\n",
    "plt.show()"
   ]
  },
  {
   "cell_type": "markdown",
   "id": "51fd667c-a319-404f-8aba-f7e88a45dac1",
   "metadata": {},
   "source": [
    "# get index"
   ]
  },
  {
   "cell_type": "code",
   "execution_count": 36,
   "id": "8045ef43-aef2-48a1-b65b-6ebdb8985e0b",
   "metadata": {},
   "outputs": [],
   "source": [
    "def get_linkerIdx(pred_label):\n",
    "    return [i for i, e in enumerate(pred_label) if e == 1]"
   ]
  },
  {
   "cell_type": "code",
   "execution_count": 42,
   "id": "ad3bc2d8-b3a1-488e-bd96-921c8826999e",
   "metadata": {},
   "outputs": [
    {
     "data": {
      "text/plain": [
       "[0,\n",
       " 152,\n",
       " 153,\n",
       " 154,\n",
       " 155,\n",
       " 156,\n",
       " 157,\n",
       " 158,\n",
       " 159,\n",
       " 160,\n",
       " 161,\n",
       " 162,\n",
       " 163,\n",
       " 164,\n",
       " 165,\n",
       " 166,\n",
       " 167,\n",
       " 168,\n",
       " 169,\n",
       " 170,\n",
       " 171,\n",
       " 172,\n",
       " 173,\n",
       " 174,\n",
       " 175,\n",
       " 176,\n",
       " 177,\n",
       " 178,\n",
       " 179,\n",
       " 180,\n",
       " 181,\n",
       " 182,\n",
       " 183,\n",
       " 184,\n",
       " 185,\n",
       " 186,\n",
       " 187,\n",
       " 188,\n",
       " 189,\n",
       " 190,\n",
       " 191,\n",
       " 192,\n",
       " 193,\n",
       " 194,\n",
       " 195,\n",
       " 196,\n",
       " 197,\n",
       " 198,\n",
       " 199]"
      ]
     },
     "execution_count": 42,
     "metadata": {},
     "output_type": "execute_result"
    }
   ],
   "source": [
    "get_linkerIdx(pred_label)"
   ]
  },
  {
   "cell_type": "code",
   "execution_count": null,
   "id": "e7835d1e-c099-4feb-be16-28d405532462",
   "metadata": {},
   "outputs": [],
   "source": []
  },
  {
   "cell_type": "code",
   "execution_count": null,
   "id": "987ec61d-291c-49a6-be2e-96faed916fc9",
   "metadata": {},
   "outputs": [],
   "source": []
  }
 ],
 "metadata": {
  "kernelspec": {
   "display_name": "Python 3 (ipykernel)",
   "language": "python",
   "name": "python3"
  },
  "language_info": {
   "codemirror_mode": {
    "name": "ipython",
    "version": 3
   },
   "file_extension": ".py",
   "mimetype": "text/x-python",
   "name": "python",
   "nbconvert_exporter": "python",
   "pygments_lexer": "ipython3",
   "version": "3.9.12"
  }
 },
 "nbformat": 4,
 "nbformat_minor": 5
}
