{
 "cells": [
  {
   "cell_type": "code",
   "execution_count": 1,
   "id": "40b2e385",
   "metadata": {},
   "outputs": [],
   "source": [
    "import os\n",
    "from typing import List\n",
    "\n",
    "import numpy as np\n",
    "import pandas as pd\n",
    "import torch\n",
    "import torch.nn as nn\n",
    "from matplotlib import pyplot as plt\n",
    "from sklearn import metrics\n",
    "from torch import optim"
   ]
  },
  {
   "cell_type": "markdown",
   "id": "8aa15611-6016-43ea-991d-46928f43b05a",
   "metadata": {},
   "source": [
    "# CNN"
   ]
  },
  {
   "cell_type": "code",
   "execution_count": 23,
   "id": "d9cc36bc",
   "metadata": {},
   "outputs": [],
   "source": [
    "class Net(nn.Module):\n",
    "    def __init__(self, in_features, dropout=0.25):\n",
    "        super().__init__()\n",
    "\n",
    "        def conv_out_len(layer, length_in):\n",
    "            return (length_in + 2 * layer.padding[0] - layer.dilation[0] * (layer.kernel_size[0] - 1) - 1) // \\\n",
    "                   layer.stride[0] + 1\n",
    "\n",
    "        self.conv1 = nn.Conv1d(in_features, 50, kernel_size=1, stride=1, padding=0)\n",
    "        self.conv2 = nn.Conv1d(self.conv1.out_channels, 20, kernel_size=3, stride=1, padding=1)\n",
    "        self.conv3 = nn.Conv1d(self.conv2.out_channels, 15, kernel_size=1, stride=1, padding=0)\n",
    "        self.last = nn.Conv1d(self.conv3.out_channels, 1, kernel_size=1, stride=1, padding=0)\n",
    "\n",
    "        self.sigmoid = nn.Sigmoid()\n",
    "        self.relu = nn.ReLU()\n",
    "        self.dropout = nn.Dropout(dropout)\n",
    "\n",
    "    def forward(self, x):\n",
    "        x = x.squeeze(-1)\n",
    "        x = self.relu(self.conv1(x))\n",
    "        x = self.relu(self.conv2(x))\n",
    "        x = self.relu(self.conv3(x))\n",
    "        x = self.sigmoid(self.last(x))\n",
    "        x = x.flatten(start_dim=1)\n",
    "        return x"
   ]
  },
  {
   "cell_type": "code",
   "execution_count": 24,
   "id": "a692ec35",
   "metadata": {},
   "outputs": [],
   "source": [
    "# Instantiate the model\n",
    "net = Net(in_features=1024)"
   ]
  },
  {
   "cell_type": "code",
   "execution_count": 25,
   "id": "70f26edb",
   "metadata": {},
   "outputs": [
    {
     "data": {
      "text/plain": [
       "54601"
      ]
     },
     "execution_count": 25,
     "metadata": {},
     "output_type": "execute_result"
    }
   ],
   "source": [
    "pytorch_total_params = sum(p.numel() for p in net.parameters())\n",
    "pytorch_total_params"
   ]
  },
  {
   "cell_type": "markdown",
   "id": "6544377c-3b10-4ab6-9db9-18a4c620f623",
   "metadata": {},
   "source": [
    "# RNN"
   ]
  },
  {
   "cell_type": "code",
   "execution_count": 60,
   "id": "60495e48-b87c-4915-b8c3-5717991dedcd",
   "metadata": {},
   "outputs": [],
   "source": [
    "class Net(nn.Module):\n",
    "    def __init__(self, input_size, hidden_size=24, num_layers=2, bidirectional=True, dropout=0.2):\n",
    "        super().__init__()\n",
    "\n",
    "        self.hidden_size = hidden_size\n",
    "        self.num_layers = num_layers\n",
    "        \n",
    "        self.rnn = nn.RNN(input_size, hidden_size, num_layers, batch_first=True,\n",
    "                         bidirectional=bidirectional, nonlinearity='tanh', dropout=dropout)\n",
    "        self.bidirectional = bidirectional\n",
    "        \n",
    "        if bidirectional:\n",
    "            self.fc = nn.Linear(hidden_size*2, 1) # combine result from diff layers into one output for each AA\n",
    "        else:\n",
    "            self.fc = nn.Linear(hidden_size, 1)\n",
    "            \n",
    "        self.sigmoid = nn.Sigmoid()\n",
    "        \n",
    "    def forward(self, x):\n",
    "        x = x.transpose(1, 2)\n",
    "        if self.bidirectional:\n",
    "            h0 = torch.zeros(self.num_layers*2, x.size(0), self.hidden_size).to(device)\n",
    "        else:\n",
    "            h0 = torch.zeros(self.num_layers, x.size(0), self.hidden_size).to(device)\n",
    "        # Forward Prop\n",
    "        out, hn = self.rnn(x, h0)\n",
    "        # all training example, last hidden state, all \n",
    "        # it is not the last hidden state, it is the last batch\n",
    "        # print('out.squeeze() ', out.squeeze().size())\n",
    "        out = self.fc(out)\n",
    "        out = self.sigmoid(out)\n",
    "        \n",
    "        out = out.flatten(start_dim=1)\n",
    "        return out"
   ]
  },
  {
   "cell_type": "code",
   "execution_count": 73,
   "id": "22304ea4-b914-40f1-ad2f-34937025d6e2",
   "metadata": {},
   "outputs": [],
   "source": [
    "# Instantiate the model\n",
    "device = torch.device('cuda' if torch.cuda.is_available() else 'cpu')\n",
    "net = Net(1024, num_layers=2, hidden_size=1, bidirectional=True).to(device)"
   ]
  },
  {
   "cell_type": "code",
   "execution_count": 74,
   "id": "7ff03953-854b-4016-a30b-374377327a44",
   "metadata": {},
   "outputs": [
    {
     "data": {
      "text/plain": [
       "2067"
      ]
     },
     "execution_count": 74,
     "metadata": {},
     "output_type": "execute_result"
    }
   ],
   "source": [
    "pytorch_total_params = sum(p.numel() for p in net.parameters())\n",
    "pytorch_total_params"
   ]
  },
  {
   "cell_type": "code",
   "execution_count": null,
   "id": "23a2bd5b-3778-4248-a6bc-e6a68532b05f",
   "metadata": {},
   "outputs": [],
   "source": []
  },
  {
   "cell_type": "code",
   "execution_count": null,
   "id": "2cb7d519-3960-49c3-878e-92a8f351e3f7",
   "metadata": {},
   "outputs": [],
   "source": []
  },
  {
   "cell_type": "code",
   "execution_count": null,
   "id": "1432e027-d7cf-47d4-bd1b-c4f030147239",
   "metadata": {},
   "outputs": [],
   "source": []
  },
  {
   "cell_type": "code",
   "execution_count": null,
   "id": "53b31db9-8f0f-4530-a873-c8d9f70bbce4",
   "metadata": {},
   "outputs": [],
   "source": []
  }
 ],
 "metadata": {
  "kernelspec": {
   "display_name": "Python 3 (ipykernel)",
   "language": "python",
   "name": "python3"
  },
  "language_info": {
   "codemirror_mode": {
    "name": "ipython",
    "version": 3
   },
   "file_extension": ".py",
   "mimetype": "text/x-python",
   "name": "python",
   "nbconvert_exporter": "python",
   "pygments_lexer": "ipython3",
   "version": "3.11.4"
  },
  "toc": {
   "base_numbering": 1,
   "nav_menu": {},
   "number_sections": true,
   "sideBar": true,
   "skip_h1_title": false,
   "title_cell": "Table of Contents",
   "title_sidebar": "Contents",
   "toc_cell": false,
   "toc_position": {},
   "toc_section_display": true,
   "toc_window_display": false
  }
 },
 "nbformat": 4,
 "nbformat_minor": 5
}
